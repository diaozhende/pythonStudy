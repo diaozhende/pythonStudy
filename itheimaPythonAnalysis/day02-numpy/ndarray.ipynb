{
 "cells": [
  {
   "cell_type": "code",
   "execution_count": 1,
   "metadata": {},
   "outputs": [],
   "source": [
    "import numpy\n"
   ]
  },
  {
   "cell_type": "code",
   "execution_count": 4,
   "metadata": {},
   "outputs": [
    {
     "data": {
      "text/plain": [
       "array([[80, 89, 86, 67, 90],\n",
       "       [78, 97, 89, 67, 81],\n",
       "       [90, 94, 78, 67, 74],\n",
       "       [91, 91, 90, 67, 69],\n",
       "       [76, 87, 75, 67, 86],\n",
       "       [70, 79, 84, 67, 84],\n",
       "       [94, 97, 83, 67, 64],\n",
       "       [94, 97, 83, 67, 64]])"
      ]
     },
     "execution_count": 4,
     "metadata": {},
     "output_type": "execute_result"
    }
   ],
   "source": [
    "data = numpy.array([[80,89,86,67,90],\n",
    "                    [78,97,89,67,81],\n",
    "                   [90,94,78,67,74],\n",
    "                   [91,91,90,67,69],\n",
    "                   [76,87,75,67,86],\n",
    "                   [70,79,84,67,84],\n",
    "                   [94,97,83,67,64],\n",
    "                   [94,97,83,67,64]])\n",
    "data"
   ]
  },
  {
   "cell_type": "markdown",
   "metadata": {},
   "source": [
    "### 1.ndarray的属性"
   ]
  },
  {
   "cell_type": "code",
   "execution_count": 5,
   "metadata": {},
   "outputs": [
    {
     "data": {
      "text/plain": [
       "(8, 5)"
      ]
     },
     "execution_count": 5,
     "metadata": {},
     "output_type": "execute_result"
    }
   ],
   "source": [
    "data.shape# array的形状(行，列)"
   ]
  },
  {
   "cell_type": "code",
   "execution_count": 8,
   "metadata": {},
   "outputs": [
    {
     "data": {
      "text/plain": [
       "2"
      ]
     },
     "execution_count": 8,
     "metadata": {},
     "output_type": "execute_result"
    }
   ],
   "source": [
    "data.ndim # array的维度"
   ]
  },
  {
   "cell_type": "code",
   "execution_count": 9,
   "metadata": {},
   "outputs": [
    {
     "data": {
      "text/plain": [
       "dtype('int32')"
      ]
     },
     "execution_count": 9,
     "metadata": {},
     "output_type": "execute_result"
    }
   ],
   "source": [
    "data.dtype # array类型"
   ]
  },
  {
   "cell_type": "code",
   "execution_count": 10,
   "metadata": {},
   "outputs": [
    {
     "data": {
      "text/plain": [
       "4"
      ]
     },
     "execution_count": 10,
     "metadata": {},
     "output_type": "execute_result"
    }
   ],
   "source": [
    "data.itemsize # 每个数据的字节数"
   ]
  },
  {
   "cell_type": "markdown",
   "metadata": {},
   "source": [
    "### 2.array形状"
   ]
  },
  {
   "cell_type": "code",
   "execution_count": 20,
   "metadata": {},
   "outputs": [],
   "source": [
    "arr1 = numpy.array([[1,2,4],[4,5,6]]) # (2,3)\n",
    "arr2 = numpy.array([1,2,3,4,5,6])# (6,)\n",
    "arr3 = numpy.array([[[1,2,3],[4,5,6]],\n",
    "                   [[1,2,3],[4,5,6]]])# (2,2,3)"
   ]
  },
  {
   "cell_type": "code",
   "execution_count": 17,
   "metadata": {},
   "outputs": [
    {
     "data": {
      "text/plain": [
       "(2, 3)"
      ]
     },
     "execution_count": 17,
     "metadata": {},
     "output_type": "execute_result"
    }
   ],
   "source": [
    "arr1.shape"
   ]
  },
  {
   "cell_type": "code",
   "execution_count": 18,
   "metadata": {},
   "outputs": [
    {
     "data": {
      "text/plain": [
       "(6,)"
      ]
     },
     "execution_count": 18,
     "metadata": {},
     "output_type": "execute_result"
    }
   ],
   "source": [
    "arr2.shape"
   ]
  },
  {
   "cell_type": "code",
   "execution_count": 19,
   "metadata": {},
   "outputs": [
    {
     "data": {
      "text/plain": [
       "(2, 2, 3)"
      ]
     },
     "execution_count": 19,
     "metadata": {},
     "output_type": "execute_result"
    }
   ],
   "source": [
    "arr3.shape"
   ]
  },
  {
   "cell_type": "markdown",
   "metadata": {},
   "source": [
    "### 3.ndarray的类型"
   ]
  },
  {
   "cell_type": "code",
   "execution_count": 21,
   "metadata": {},
   "outputs": [
    {
     "data": {
      "text/plain": [
       "dtype('float64')"
      ]
     },
     "execution_count": 21,
     "metadata": {},
     "output_type": "execute_result"
    }
   ],
   "source": [
    "dataFloat = numpy.array([1.2,2.2,3.2])\n",
    "dataFloat.dtype"
   ]
  },
  {
   "cell_type": "code",
   "execution_count": 25,
   "metadata": {},
   "outputs": [
    {
     "data": {
      "text/plain": [
       "dtype('float32')"
      ]
     },
     "execution_count": 25,
     "metadata": {},
     "output_type": "execute_result"
    }
   ],
   "source": [
    "# 创建指定类型的数组\n",
    "data1 = numpy.array([1.2,2.2,3.2],dtype=\"float32\")\n",
    "data1.dtype\n",
    "data2 = numpy.array([1.2,2.2,3.2],dtype=numpy.float32)\n",
    "data2.dtype"
   ]
  },
  {
   "cell_type": "markdown",
   "metadata": {},
   "source": [
    "### 4.生成数组的方法"
   ]
  },
  {
   "cell_type": "markdown",
   "metadata": {},
   "source": [
    "### #4.1、生成0和1数组"
   ]
  },
  {
   "cell_type": "code",
   "execution_count": 33,
   "metadata": {},
   "outputs": [
    {
     "data": {
      "text/plain": [
       "array([[0, 0, 0, 0],\n",
       "       [0, 0, 0, 0],\n",
       "       [0, 0, 0, 0],\n",
       "       [0, 0, 0, 0]])"
      ]
     },
     "execution_count": 33,
     "metadata": {},
     "output_type": "execute_result"
    }
   ],
   "source": [
    "# 生成0数组\n",
    "z = numpy.zeros((4,4),dtype=numpy.int32)# （行，列）\n",
    "o = numpy.ones((4,4))\n",
    "z"
   ]
  },
  {
   "cell_type": "markdown",
   "metadata": {},
   "source": [
    "### # 4.2、从现有数组中生成"
   ]
  },
  {
   "cell_type": "code",
   "execution_count": 53,
   "metadata": {},
   "outputs": [],
   "source": [
    "data = numpy.array([[80,89,86,67,90],\n",
    "                    [78,97,89,67,81],\n",
    "                   [90,94,78,67,74],\n",
    "                   [91,91,90,67,69],\n",
    "                   [76,87,75,67,86],\n",
    "                   [70,79,84,67,84],\n",
    "                   [94,97,83,67,64],\n",
    "                   [94,97,83,67,64]])\n",
    "\n"
   ]
  },
  {
   "cell_type": "code",
   "execution_count": 54,
   "metadata": {},
   "outputs": [],
   "source": [
    "# numpy.array()***深拷贝\n",
    "dataar = numpy.array(data)"
   ]
  },
  {
   "cell_type": "code",
   "execution_count": 41,
   "metadata": {},
   "outputs": [],
   "source": [
    "# numpy.asarray()***浅拷贝\n",
    "dataas = numpy.asarray(data)"
   ]
  },
  {
   "cell_type": "code",
   "execution_count": 52,
   "metadata": {},
   "outputs": [],
   "source": [
    "# numpy.copy()***深拷贝\n",
    "dataco = numpy.copy(data)"
   ]
  },
  {
   "cell_type": "code",
   "execution_count": 55,
   "metadata": {},
   "outputs": [
    {
     "data": {
      "text/plain": [
       "array([[     80,      89,      86,      67,      90],\n",
       "       [     78,      97,      89,      67,      81],\n",
       "       [     90,      94,      78,      67,      74],\n",
       "       [     91,      91,      90, 1000000,      69],\n",
       "       [     76,      87,      75,      67,      86],\n",
       "       [     70,      79,      84,      67,      84],\n",
       "       [     94,      97,      83,      67,      64],\n",
       "       [     94,      97,      83,      67,      64]])"
      ]
     },
     "execution_count": 55,
     "metadata": {},
     "output_type": "execute_result"
    }
   ],
   "source": [
    "data[3][3] = 1000000\n",
    "data"
   ]
  },
  {
   "cell_type": "code",
   "execution_count": 56,
   "metadata": {},
   "outputs": [
    {
     "data": {
      "text/plain": [
       "array([[80, 89, 86, 67, 90],\n",
       "       [78, 97, 89, 67, 81],\n",
       "       [90, 94, 78, 67, 74],\n",
       "       [91, 91, 90, 67, 69],\n",
       "       [76, 87, 75, 67, 86],\n",
       "       [70, 79, 84, 67, 84],\n",
       "       [94, 97, 83, 67, 64],\n",
       "       [94, 97, 83, 67, 64]])"
      ]
     },
     "execution_count": 56,
     "metadata": {},
     "output_type": "execute_result"
    }
   ],
   "source": [
    "dataar"
   ]
  },
  {
   "cell_type": "code",
   "execution_count": 57,
   "metadata": {},
   "outputs": [
    {
     "data": {
      "text/plain": [
       "array([[     80,      89,      86,      67,      90],\n",
       "       [     78,      97,      89,      67,      81],\n",
       "       [     90,      94,      78,      67,      74],\n",
       "       [     91,      91,      90, 1000000,      69],\n",
       "       [     76,      87,      75,      67,      86],\n",
       "       [     70,      79,      84,      67,      84],\n",
       "       [     94,      97,      83,      67,      64],\n",
       "       [     94,      97,      83,      67,      64]])"
      ]
     },
     "execution_count": 57,
     "metadata": {},
     "output_type": "execute_result"
    }
   ],
   "source": [
    "dataas"
   ]
  },
  {
   "cell_type": "code",
   "execution_count": 58,
   "metadata": {},
   "outputs": [
    {
     "data": {
      "text/plain": [
       "array([[80, 89, 86, 67, 90],\n",
       "       [78, 97, 89, 67, 81],\n",
       "       [90, 94, 78, 67, 74],\n",
       "       [91, 91, 90, 67, 69],\n",
       "       [76, 87, 75, 67, 86],\n",
       "       [70, 79, 84, 67, 84],\n",
       "       [94, 97, 83, 67, 64],\n",
       "       [94, 97, 83, 67, 64]])"
      ]
     },
     "execution_count": 58,
     "metadata": {},
     "output_type": "execute_result"
    }
   ],
   "source": [
    "dataco"
   ]
  },
  {
   "cell_type": "markdown",
   "metadata": {},
   "source": [
    "### 4.3、生成指定范围的数组"
   ]
  },
  {
   "cell_type": "code",
   "execution_count": 59,
   "metadata": {},
   "outputs": [],
   "source": [
    "\n",
    "# （1）numpy.linspace(1,10,100)等距离，左闭右闭\n",
    "# （2）numpy.arange(a,b,c):range(a,b),c是步长，左闭右开"
   ]
  },
  {
   "cell_type": "code",
   "execution_count": 61,
   "metadata": {},
   "outputs": [
    {
     "data": {
      "text/plain": [
       "array([ 0. ,  2.5,  5. ,  7.5, 10. ])"
      ]
     },
     "execution_count": 61,
     "metadata": {},
     "output_type": "execute_result"
    }
   ],
   "source": [
    "# numpy.linspace()\n",
    "numpy.linspace(0,10,5)"
   ]
  },
  {
   "cell_type": "code",
   "execution_count": 62,
   "metadata": {},
   "outputs": [
    {
     "data": {
      "text/plain": [
       "array([0, 5])"
      ]
     },
     "execution_count": 62,
     "metadata": {},
     "output_type": "execute_result"
    }
   ],
   "source": [
    "# numpy.arange()\n",
    "numpy.arange(0,10,5)"
   ]
  },
  {
   "cell_type": "markdown",
   "metadata": {},
   "source": [
    "### 5.生成随机数组"
   ]
  },
  {
   "cell_type": "markdown",
   "metadata": {},
   "source": [
    "### 5.1、均匀分布"
   ]
  },
  {
   "cell_type": "code",
   "execution_count": 72,
   "metadata": {},
   "outputs": [],
   "source": [
    "# 生成均匀分布的随机数组\n",
    "import random\n",
    "data = numpy.random.uniform(low = -1,high = 1,size = 1000000) # 下限，上限，个数，左闭右开"
   ]
  },
  {
   "cell_type": "code",
   "execution_count": 73,
   "metadata": {},
   "outputs": [
    {
     "data": {
      "image/png": "[encoded data removed]",
      "text/plain": [
       "<Figure size 1600x640 with 1 Axes>"
      ]
     },
     "metadata": {
      "needs_background": "light"
     },
     "output_type": "display_data"
    }
   ],
   "source": [
    "from matplotlib import pylab\n",
    "pylab.figure(figsize = (20,8),dpi=80)\n",
    "pylab.hist(data,1000)\n",
    "pylab.show()"
   ]
  },
  {
   "cell_type": "markdown",
   "metadata": {},
   "source": [
    "### 5.2生成正态分布数组"
   ]
  },
  {
   "cell_type": "code",
   "execution_count": 75,
   "metadata": {},
   "outputs": [],
   "source": [
    "datanor = numpy.random.normal(loc = 1.75,scale = 0.1,size = 10000000)# 平均值，方差，个数"
   ]
  },
  {
   "cell_type": "code",
   "execution_count": 76,
   "metadata": {},
   "outputs": [
    {
     "data": {
      "image/png": "[encoded data removed]",
      "text/plain": [
       "<Figure size 1600x640 with 1 Axes>"
      ]
     },
     "metadata": {
      "needs_background": "light"
     },
     "output_type": "display_data"
    }
   ],
   "source": [
    "pylab.figure(figsize = (20,8),dpi = 80)\n",
    "pylab.hist(datanor,1000)\n",
    "pylab.show()"
   ]
  },
  {
   "cell_type": "markdown",
   "metadata": {},
   "source": [
    "### 案例：随机生成8只股票两周的交易日涨幅数据\n"
   ]
  },
  {
   "cell_type": "code",
   "execution_count": 84,
   "metadata": {},
   "outputs": [],
   "source": [
    "# 随机生成涨幅在某个正态分布内，均值是0，方差是1\n",
    "gp = numpy.random.normal(loc = 0,scale = 1,size = (8,10))"
   ]
  },
  {
   "cell_type": "markdown",
   "metadata": {},
   "source": [
    "### 5.3、数组的切片和索引"
   ]
  },
  {
   "cell_type": "code",
   "execution_count": 86,
   "metadata": {},
   "outputs": [
    {
     "data": {
      "text/plain": [
       "array([ 0.67667412, -0.8358052 ,  0.38385522, -1.10705244])"
      ]
     },
     "execution_count": 86,
     "metadata": {},
     "output_type": "execute_result"
    }
   ],
   "source": [
    "# 获取第一个股票前四天的涨幅数据\n",
    "gp[0,:4]"
   ]
  },
  {
   "cell_type": "markdown",
   "metadata": {},
   "source": [
    "### 5.4、三维数组切片"
   ]
  },
  {
   "cell_type": "code",
   "execution_count": 88,
   "metadata": {},
   "outputs": [
    {
     "data": {
      "text/plain": [
       "5"
      ]
     },
     "execution_count": 88,
     "metadata": {},
     "output_type": "execute_result"
    }
   ],
   "source": [
    "threeData = numpy.array([[[1,2,3],[4,5,6]],\n",
    "                   [[1,2,3],[4,5,6]]])\n",
    "threeData[0][1][1]"
   ]
  },
  {
   "cell_type": "markdown",
   "metadata": {},
   "source": [
    "### 6.形状的修改"
   ]
  },
  {
   "cell_type": "code",
   "execution_count": 93,
   "metadata": {},
   "outputs": [
    {
     "data": {
      "text/plain": [
       "array([[-0.90661146,  1.60335128, -0.77744275,  0.41485863, -0.41276035,\n",
       "         1.03952337,  1.7190348 ,  1.06129181, -0.08255116, -0.28702002],\n",
       "       [ 2.23764191, -0.42150153, -0.07752663, -0.98616638, -1.37339449,\n",
       "        -0.77246369, -2.06941044, -2.36231845,  0.06632543,  1.463594  ],\n",
       "       [ 1.28349388, -0.13866791,  0.48074179, -0.87164334, -0.7735819 ,\n",
       "        -0.50192581, -1.96410161, -1.82265168, -1.12682195,  2.47416685],\n",
       "       [ 0.90769094, -2.14939131, -0.01032401, -0.28703476,  1.61143135,\n",
       "         0.21740247,  1.39052939, -0.32900791,  0.24827236, -1.08420173],\n",
       "       [-0.07498733, -1.38116639,  0.63691734,  0.83704643, -0.83606135,\n",
       "        -0.312545  ,  0.55041112, -0.81377073, -0.4089112 ,  0.377332  ],\n",
       "       [ 0.20688246, -1.56355282,  0.8497683 , -0.55616681, -1.56854703,\n",
       "        -2.56876702, -0.21050599, -0.14577165, -2.37166499,  0.8628535 ],\n",
       "       [ 1.89629069,  0.1525949 ,  0.16166241, -1.07823076,  1.06987668,\n",
       "         0.3781465 , -0.88430963, -1.21866575,  1.20676313,  0.51513436],\n",
       "       [-0.14090359, -0.78002091, -0.57811124, -0.64142383, -0.7991012 ,\n",
       "         0.50088666, -0.06447283, -0.06189193, -1.14262526, -1.16407768]])"
      ]
     },
     "execution_count": 93,
     "metadata": {},
     "output_type": "execute_result"
    }
   ],
   "source": [
    "gp = numpy.random.normal(loc = 0,scale = 1,size = (8,10))\n",
    "gp"
   ]
  },
  {
   "cell_type": "code",
   "execution_count": 92,
   "metadata": {},
   "outputs": [
    {
     "data": {
      "text/plain": [
       "array([[ 1.220237  , -0.46849458,  0.74578471,  0.04197999, -0.67777201,\n",
       "        -0.46596268,  1.30994783,  0.68307687],\n",
       "       [-0.42462414,  0.91578956, -0.53854206, -2.00932816,  0.3405016 ,\n",
       "         1.92809379, -0.49615918,  0.54318237],\n",
       "       [-0.32787362,  0.49743864,  0.2148996 ,  0.89599441, -1.47165619,\n",
       "         0.02679901, -0.51265965, -0.60438856],\n",
       "       [-0.17530302,  0.79069006,  1.31927131,  0.39382771, -1.03721538,\n",
       "         0.8231631 ,  1.28822102, -0.24065376],\n",
       "       [ 0.47304212, -0.22983275, -0.42318105,  0.39935555,  0.50194582,\n",
       "         0.31853998,  0.19960359, -0.36632053],\n",
       "       [ 0.24211281,  0.78476152, -2.11476447,  1.87618393, -0.76910948,\n",
       "        -2.36249707, -1.20409041,  0.02856335],\n",
       "       [ 2.28223316,  0.88485639, -0.68871618, -1.36499013,  0.7429133 ,\n",
       "         0.56781657,  0.89290349,  1.59204593],\n",
       "       [-3.43740106,  1.7149296 ,  1.06036491,  0.35474251, -1.29149495,\n",
       "        -1.17856886,  0.40898828,  0.80763252],\n",
       "       [ 0.02174577,  0.17036544, -1.20083211, -0.19340159, -1.37855216,\n",
       "        -0.24269198,  1.55715711, -0.52548765],\n",
       "       [-0.1036857 , -1.78620641, -0.54611875,  1.9907721 , -0.2212598 ,\n",
       "        -0.81254308,  1.1503262 , -0.04979334]])"
      ]
     },
     "execution_count": 92,
     "metadata": {},
     "output_type": "execute_result"
    }
   ],
   "source": [
    "#将股票数据行列进行翻转\n",
    "# numpy.reshape()\n",
    "gp.reshape((10,8)) # 行，列\n",
    "# 将数组进行重新排列"
   ]
  },
  {
   "cell_type": "code",
   "execution_count": 96,
   "metadata": {},
   "outputs": [
    {
     "data": {
      "text/plain": [
       "array([[-0.90661146,  1.60335128, -0.77744275,  0.41485863, -0.41276035,\n",
       "         1.03952337,  1.7190348 ,  1.06129181],\n",
       "       [-0.08255116, -0.28702002,  2.23764191, -0.42150153, -0.07752663,\n",
       "        -0.98616638, -1.37339449, -0.77246369],\n",
       "       [-2.06941044, -2.36231845,  0.06632543,  1.463594  ,  1.28349388,\n",
       "        -0.13866791,  0.48074179, -0.87164334],\n",
       "       [-0.7735819 , -0.50192581, -1.96410161, -1.82265168, -1.12682195,\n",
       "         2.47416685,  0.90769094, -2.14939131],\n",
       "       [-0.01032401, -0.28703476,  1.61143135,  0.21740247,  1.39052939,\n",
       "        -0.32900791,  0.24827236, -1.08420173],\n",
       "       [-0.07498733, -1.38116639,  0.63691734,  0.83704643, -0.83606135,\n",
       "        -0.312545  ,  0.55041112, -0.81377073],\n",
       "       [-0.4089112 ,  0.377332  ,  0.20688246, -1.56355282,  0.8497683 ,\n",
       "        -0.55616681, -1.56854703, -2.56876702],\n",
       "       [-0.21050599, -0.14577165, -2.37166499,  0.8628535 ,  1.89629069,\n",
       "         0.1525949 ,  0.16166241, -1.07823076],\n",
       "       [ 1.06987668,  0.3781465 , -0.88430963, -1.21866575,  1.20676313,\n",
       "         0.51513436, -0.14090359, -0.78002091],\n",
       "       [-0.57811124, -0.64142383, -0.7991012 ,  0.50088666, -0.06447283,\n",
       "        -0.06189193, -1.14262526, -1.16407768]])"
      ]
     },
     "execution_count": 96,
     "metadata": {},
     "output_type": "execute_result"
    }
   ],
   "source": [
    "# numpy.resize()\n",
    "gp.resize((10,8))# 没有返回值，将原始的数据进行修改\n",
    "gp"
   ]
  },
  {
   "cell_type": "code",
   "execution_count": 101,
   "metadata": {},
   "outputs": [
    {
     "data": {
      "text/plain": [
       "array([[-2.17928328,  0.46893932, -0.72122961, -1.57104163,  0.59030372,\n",
       "        -0.56659238,  1.03738235, -0.64678401, -0.01011459, -0.97760002],\n",
       "       [-1.40474053,  0.16920589, -1.23381105,  0.39746364, -1.45629246,\n",
       "        -0.19182592,  0.15580181, -0.21828691,  2.08856984,  0.15699998],\n",
       "       [-0.57605251,  0.0294704 ,  1.87767887,  0.0420768 , -0.31941063,\n",
       "         1.03693798, -1.16743239, -3.23191635, -0.7746109 , -0.06510253],\n",
       "       [-0.77008251, -1.36862513, -0.17336047,  0.29220402,  0.69003648,\n",
       "        -0.1047785 , -0.08537449, -0.41560452,  0.37573929, -0.20411151],\n",
       "       [ 0.54441136, -2.26862287, -0.56755381, -2.11516287, -0.31615416,\n",
       "        -0.80544044,  0.07416024, -1.15409963,  0.18719522,  0.45870405],\n",
       "       [-0.25588134, -0.30151245, -0.05601373,  0.96785051,  0.31629726,\n",
       "         0.0220367 , -1.36218555, -0.93391108,  0.69618104,  1.08315901],\n",
       "       [ 0.32169292,  1.55422338, -0.97651155, -1.6218164 ,  0.06642334,\n",
       "         0.48807676,  1.85485011, -0.24721605, -1.48011116, -0.25017293],\n",
       "       [-0.96144297,  0.42982457, -0.18206634, -0.24305325, -0.51585394,\n",
       "        -0.66388228, -1.30348737, -1.01323827,  0.26403012,  1.36637259]])"
      ]
     },
     "execution_count": 101,
     "metadata": {},
     "output_type": "execute_result"
    }
   ],
   "source": [
    "gp = numpy.random.normal(loc = 0,scale = 1,size = (8,10))\n",
    "gp"
   ]
  },
  {
   "cell_type": "code",
   "execution_count": 103,
   "metadata": {},
   "outputs": [
    {
     "data": {
      "text/plain": [
       "array([[-2.17928328, -1.40474053, -0.57605251, -0.77008251,  0.54441136,\n",
       "        -0.25588134,  0.32169292, -0.96144297],\n",
       "       [ 0.46893932,  0.16920589,  0.0294704 , -1.36862513, -2.26862287,\n",
       "        -0.30151245,  1.55422338,  0.42982457],\n",
       "       [-0.72122961, -1.23381105,  1.87767887, -0.17336047, -0.56755381,\n",
       "        -0.05601373, -0.97651155, -0.18206634],\n",
       "       [-1.57104163,  0.39746364,  0.0420768 ,  0.29220402, -2.11516287,\n",
       "         0.96785051, -1.6218164 , -0.24305325],\n",
       "       [ 0.59030372, -1.45629246, -0.31941063,  0.69003648, -0.31615416,\n",
       "         0.31629726,  0.06642334, -0.51585394],\n",
       "       [-0.56659238, -0.19182592,  1.03693798, -0.1047785 , -0.80544044,\n",
       "         0.0220367 ,  0.48807676, -0.66388228],\n",
       "       [ 1.03738235,  0.15580181, -1.16743239, -0.08537449,  0.07416024,\n",
       "        -1.36218555,  1.85485011, -1.30348737],\n",
       "       [-0.64678401, -0.21828691, -3.23191635, -0.41560452, -1.15409963,\n",
       "        -0.93391108, -0.24721605, -1.01323827],\n",
       "       [-0.01011459,  2.08856984, -0.7746109 ,  0.37573929,  0.18719522,\n",
       "         0.69618104, -1.48011116,  0.26403012],\n",
       "       [-0.97760002,  0.15699998, -0.06510253, -0.20411151,  0.45870405,\n",
       "         1.08315901, -0.25017293,  1.36637259]])"
      ]
     },
     "execution_count": 103,
     "metadata": {},
     "output_type": "execute_result"
    }
   ],
   "source": [
    "# T:数组转置，行变列，列变行\n",
    "tData = gp.T\n",
    "tData"
   ]
  },
  {
   "cell_type": "markdown",
   "metadata": {},
   "source": [
    "### 7.类型的修改"
   ]
  },
  {
   "cell_type": "markdown",
   "metadata": {},
   "source": [
    "### 7.1、类型修改"
   ]
  },
  {
   "cell_type": "code",
   "execution_count": 104,
   "metadata": {},
   "outputs": [
    {
     "data": {
      "text/plain": [
       "array([[ 1,  2,  1, -1, -1,  0,  0,  0,  1,  0],\n",
       "       [ 0,  0,  0,  0,  1,  0,  2,  0,  0, -1],\n",
       "       [ 1,  0, -1,  0,  0,  0, -1,  0,  0,  0],\n",
       "       [-1,  0,  0,  0,  0,  1, -1,  1,  1,  0],\n",
       "       [ 0,  0,  0,  0,  0,  0,  1,  1,  0,  0],\n",
       "       [ 0, -1,  0,  0,  0,  0,  0,  0, -1,  0],\n",
       "       [ 0,  1,  0,  0,  0,  0,  1,  1,  1,  0],\n",
       "       [ 0,  2,  0,  0,  0,  1,  0,  0,  0,  0]])"
      ]
     },
     "execution_count": 104,
     "metadata": {},
     "output_type": "execute_result"
    }
   ],
   "source": [
    "gp = numpy.random.normal(loc = 0,scale = 1,size = (8,10))\n",
    "gp.astype(\"int32\")"
   ]
  },
  {
   "cell_type": "markdown",
   "metadata": {},
   "source": [
    "### 7.2、数组序列化"
   ]
  },
  {
   "cell_type": "code",
   "execution_count": 106,
   "metadata": {},
   "outputs": [
    {
     "data": {
      "text/plain": [
       "b' \\xf7\\x134\\xd5b\\xf7?\\xdbQ\\xef\\xde#x\\x02@\\xf88\\x9a\\x94K\\x18\\xf7?\\x16-\\x0e\\xd8\\x82f\\xf0\\xbf\\xa2\\x89\\xa0\\x0f\\xf3\"\\xff\\xbf\\xbf\\xca\\xb5\\x1e\\xc3\\x8d\\xe0?\\xac\\xd5*i\\x9dea?\\x9dJ\\xfe\\xde\\xde\\x07\\xba\\xbf\\xbdw\\xb6\\xa2`%\\xf4?\\xd8\\xd3\\x90\\x86r\\x9c\\xda?\\xdb$\\x80\\xfdf\\xb7\\xea\\xbf\\x1b\\xe5_2,B\\xdb?\\xcdn9%@\\xc6l?<\\xed\\x0f\\xa1\\xd6R\\xda\\xbfSeW\\xdc2\\xa5\\xf1? \\xcf\\x83\\xdb{\\x9c\\xb2?3\\x17\\x99\\xce\\xe7e\\x04@\\xef\\\\$\\tw \\xdb\\xbf\\x19\\xe0\\xb2e\\xf32\\xb5\\xbfe\\x99\\x1b\\xb6J\\x9d\\xf4\\xbf4V\\xb5\\xbd\\xa3\\x81\\xf7?p\\xf3\\x0e6In\\xed\\xbf\\xb4\\xad\\xeb=rk\\xf0\\xbf#\\xfb\\xcelr\\xe7\\x99\\xbft&e\\x1a)\\xfa\\xe1?:\\xb5\\x0e\\xf8\\xfcE\\xa0\\xbf\\x01\\xe7\\xddl.o\\xfa\\xbfLb\\xe9\\r\\xba\\xf4\\xee\\xbf\\xad`\\x10\\xbc\\x07\\xd1\\xe9\\xbf\\xef\\xb6\\x1c9\\xc3t\\xe7?\\xcf0R\\x0bc\\xa7\\xf8\\xbf\\xafQ\\xed\\xe8\\x93\\xf9\\xd0?6=}T&\\x81\\xdd\\xbf\\x96\\xad\\x88Wy\\n\\xe7?\\x9d\\xad0G\\x14\\xc1\\xd5\\xbf\\xf2\\xf7\\xb3\\xd4\\x9e\\xb7\\xf0?\\x1b\\xd7r\\xc4\\x12o\\xf8\\xbf\\xa2T{\\xe0S\\x02\\xf0?\\x95\\x8d3\\xef\\xb6&\\xf4?\\xbc>\\xb7\\x89U\\x98\\xc6\\xbfi\\xf1\\x00S[\\x1c\\xe5\\xbf:S\\x057\\x16y\\xce?B\\x93<\\xaee\\xc4\\xd4?\\xbb\\x1c_\\xc4\\x0f\\x1e\\xc2\\xbfM\\xeb\\xb7Jp\\x9c\\xe9\\xbf,e\\x84U\\x1f?\\x98?cT\\x11\\x92\\t\\x80\\xf9?,\\xb6G\\x0c\\xe1T\\xf0?\\xbe\\x8d\\xde|\\xe6E\\xd0\\xbfWB5k\\xb6=\\xa3?\\xa3\\xdc\\xb1\\xfb\\x80\\xca\\xe9\\xbf\\x04\\x11)\\x05\\xf7I\\xfe\\xbf-e\\x81$?*\\xde?\\xb3sd\\xbd;\\xfe\\xc4?W\\xb9|4\\x04\\xc0\\xd5\\xbf\\xec\\xca*\\xf0\\xe7>\\xe1\\xbf \\xe1\\x1e(\\x8f8\\xd1?\\x95\\xac\\x84I\\x1e!\\xd0?\\xb8\\x0c\\xf8v\\xeb\\x7f\\xf0\\xbfm&\\x88\\xea\\xe4\\xe5\\xb6\\xbfs\\x82\\xa0\\x9e\\xc5\\x88\\xdd\\xbf\\xd9\\x0eII\\xff8\\xf6?F\\x93\\xf6^P\\xc7\\xee\\xbf\\x0c\\xdb\\xcfmkv\\xd3\\xbf^\\x01\\x86\\x9b\\xe8\\xdf\\xe2\\xbfP\\xe7\\xc0c.\\x84\\xe6?Rv1IAS\\xf2?\\xd4v1U`\\xa9\\xf3?-\\x05\\x82\\xc6L.\\xf7?\\xae\\x85\\xdc\\x1b\\x99\\xd8\\xeb?\\x04\\xdc\\t\\x8f\\xfcp\\xef?I\\x91\"aJ\\xe8\\x00@\\x16t\\x82yO-\\xdd?\\x88\\x95\\xb6\\xbd\\xef\\x15\\xe9\\xbf\\xba\\xe2\\xd5\\xbb \\x9a\\xbe?\\xf9PeGx\\xba\\xf6?\\xe0\\xbc\\xc8\\xaf{`\\xe4\\xbf\\xf7\\xb6\\xa5q\\xf3\\xb2\\xe2?b\\xac2\\x1f\\x0c\\xf0\\xd4\\xbf\\x9c\\xc5\\xeeg\\xb6^\\xd6?'"
      ]
     },
     "execution_count": 106,
     "metadata": {},
     "output_type": "execute_result"
    }
   ],
   "source": [
    "gp.tostring()"
   ]
  },
  {
   "cell_type": "markdown",
   "metadata": {},
   "source": [
    "### 8.数组去重"
   ]
  },
  {
   "cell_type": "code",
   "execution_count": 107,
   "metadata": {},
   "outputs": [
    {
     "data": {
      "text/plain": [
       "array([1, 2, 3, 4, 5, 6])"
      ]
     },
     "execution_count": 107,
     "metadata": {},
     "output_type": "execute_result"
    }
   ],
   "source": [
    "# numpy.unique(data)\n",
    "arr = numpy.array([[1,2,3,4],[3,4,5,6]])\n",
    "numpy.unique(arr)"
   ]
  },
  {
   "cell_type": "markdown",
   "metadata": {},
   "source": [
    "### 9.adarray逻辑运算"
   ]
  },
  {
   "cell_type": "code",
   "execution_count": 108,
   "metadata": {},
   "outputs": [
    {
     "data": {
      "text/plain": [
       "array([[False, False,  True, False,  True, False, False, False, False,\n",
       "         True],\n",
       "       [False,  True, False, False, False, False, False, False, False,\n",
       "        False],\n",
       "       [False, False, False,  True, False, False, False, False,  True,\n",
       "         True],\n",
       "       [False, False, False,  True, False, False, False, False, False,\n",
       "         True],\n",
       "       [False, False,  True, False,  True,  True, False, False, False,\n",
       "        False],\n",
       "       [ True, False,  True, False, False,  True,  True,  True, False,\n",
       "        False],\n",
       "       [False, False, False,  True, False,  True, False,  True,  True,\n",
       "         True],\n",
       "       [False, False, False,  True,  True, False, False, False,  True,\n",
       "         True]])"
      ]
     },
     "execution_count": 108,
     "metadata": {},
     "output_type": "execute_result"
    }
   ],
   "source": [
    "gp = numpy.random.normal(loc = 0,scale = 1,size = (8,10))\n",
    "# 如果涨幅大于0.5，标记为True否则标记为False\n",
    "gp>0.5"
   ]
  },
  {
   "cell_type": "code",
   "execution_count": 109,
   "metadata": {},
   "outputs": [
    {
     "data": {
      "text/plain": [
       "array([1.20905456, 0.77715725, 0.88293217, 1.40443688, 0.56300112,\n",
       "       1.00285092, 1.1088572 , 1.83319867, 2.41160204, 1.53199816,\n",
       "       1.83420089, 0.83627106, 0.89650526, 1.09175899, 1.06793607,\n",
       "       1.36545185, 0.64291798, 0.68412734, 1.49318157, 0.72630393,\n",
       "       1.40906218, 0.92726946, 1.25314391, 1.05895463, 0.7386804 ,\n",
       "       1.25524759])"
      ]
     },
     "execution_count": 109,
     "metadata": {},
     "output_type": "execute_result"
    }
   ],
   "source": [
    "# 获取涨幅大于0.5的数据\n",
    "gp[gp>0.5]"
   ]
  },
  {
   "cell_type": "code",
   "execution_count": 110,
   "metadata": {},
   "outputs": [],
   "source": [
    "# 对涨幅大于0.5的数据进行统一的操作\n",
    "gp[gp>0.5] = 1"
   ]
  },
  {
   "cell_type": "code",
   "execution_count": 111,
   "metadata": {},
   "outputs": [
    {
     "data": {
      "text/plain": [
       "array([[-1.27122504,  0.45562023,  1.        , -0.80453447,  1.        ,\n",
       "        -0.14560891, -0.11634197, -0.08029723,  0.2656498 ,  1.        ],\n",
       "       [-0.11924332,  1.        , -0.47390925, -0.38993907, -0.38074354,\n",
       "        -1.14851633,  0.36532349,  0.34992534, -0.77335839, -0.4677952 ],\n",
       "       [-0.76298534,  0.38730134, -0.63458603,  1.        ,  0.04276904,\n",
       "        -0.69107544, -1.54474175,  0.08298977,  1.        ,  1.        ],\n",
       "       [-1.6106203 , -1.72099066,  0.04981014,  1.        , -1.224832  ,\n",
       "        -1.40250047, -1.58779006, -2.2282657 , -0.33501844,  1.        ],\n",
       "       [-0.77606202,  0.05578149,  1.        ,  0.11417301,  1.        ,\n",
       "         1.        , -0.81962769,  0.29862013,  0.01097657, -0.33727537],\n",
       "       [ 1.        , -1.08085091,  1.        , -1.60775356, -1.99662648,\n",
       "         1.        ,  1.        ,  1.        , -1.94683963, -0.85255159],\n",
       "       [-0.66041624,  0.26737962,  0.03579247,  1.        , -0.01831459,\n",
       "         1.        , -0.5885321 ,  1.        ,  1.        ,  1.        ],\n",
       "       [-0.50692182,  0.2983746 ,  0.30443956,  1.        ,  1.        ,\n",
       "        -2.09825476, -1.08871543, -0.81788374,  1.        ,  1.        ]])"
      ]
     },
     "execution_count": 111,
     "metadata": {},
     "output_type": "execute_result"
    }
   ],
   "source": [
    "gp"
   ]
  },
  {
   "cell_type": "markdown",
   "metadata": {},
   "source": [
    "### 9.1、通用判断函数"
   ]
  },
  {
   "cell_type": "code",
   "execution_count": 112,
   "metadata": {},
   "outputs": [],
   "source": [
    "# numpy.all():传进一个布尔值数组，如果有一个false就返回false\n",
    "# numpy.any()：只要有一个true就返回true"
   ]
  },
  {
   "cell_type": "code",
   "execution_count": 115,
   "metadata": {},
   "outputs": [
    {
     "data": {
      "text/plain": [
       "False"
      ]
     },
     "execution_count": 115,
     "metadata": {},
     "output_type": "execute_result"
    }
   ],
   "source": [
    "# 判断pg[:2][:5]数据是否全是上涨的\n",
    "allData = gp[:2][:5]>0\n",
    "numpy.all(allData)"
   ]
  },
  {
   "cell_type": "code",
   "execution_count": 121,
   "metadata": {},
   "outputs": [
    {
     "data": {
      "text/plain": [
       "True"
      ]
     },
     "execution_count": 121,
     "metadata": {},
     "output_type": "execute_result"
    }
   ],
   "source": [
    "# 判断前五支股票是否有上涨的\n",
    "anyData = gp[:5,:]>0\n",
    "numpy.any(anyData)"
   ]
  },
  {
   "cell_type": "markdown",
   "metadata": {},
   "source": [
    "### 9.2、np.where （s三元运算符）"
   ]
  },
  {
   "cell_type": "code",
   "execution_count": 126,
   "metadata": {},
   "outputs": [
    {
     "data": {
      "text/plain": [
       "array([[0, 1, 1, 0],\n",
       "       [0, 1, 0, 0],\n",
       "       [0, 1, 0, 1],\n",
       "       [0, 0, 1, 1],\n",
       "       [0, 1, 1, 1]])"
      ]
     },
     "execution_count": 126,
     "metadata": {},
     "output_type": "execute_result"
    }
   ],
   "source": [
    "# numpy.where(一组布尔值，True的位置的值，False的位置的值)\n",
    "# 判断前5只股票前四天的涨幅，大于0置为1，否则为0\n",
    "temp = gp[:5,:4]>0\n",
    "numpy.where(temp,1,0)"
   ]
  },
  {
   "cell_type": "markdown",
   "metadata": {},
   "source": [
    "### 9.3、复合逻辑：numpy.logical_and、numpy.logical_or"
   ]
  },
  {
   "cell_type": "code",
   "execution_count": 129,
   "metadata": {},
   "outputs": [
    {
     "data": {
      "text/plain": [
       "array([[0, 0, 0, 0],\n",
       "       [0, 0, 0, 0],\n",
       "       [0, 0, 0, 0],\n",
       "       [0, 0, 0, 0],\n",
       "       [0, 0, 0, 0]])"
      ]
     },
     "execution_count": 129,
     "metadata": {},
     "output_type": "execute_result"
    }
   ],
   "source": [
    "# 判断前5只股票前四天的涨幅，大于0.5且小于1的置为1，否则为0\n",
    "numpy.where(numpy.logical_and(gp[:5,:4]>0.5,gp[:5,:4]<1),1,0)"
   ]
  },
  {
   "cell_type": "code",
   "execution_count": 132,
   "metadata": {},
   "outputs": [
    {
     "data": {
      "text/plain": [
       "array([[1, 0, 1, 1],\n",
       "       [0, 1, 0, 0],\n",
       "       [1, 0, 1, 1],\n",
       "       [1, 1, 0, 1],\n",
       "       [1, 0, 1, 0]])"
      ]
     },
     "execution_count": 132,
     "metadata": {},
     "output_type": "execute_result"
    }
   ],
   "source": [
    "# 判断前5只股票前四天的涨幅，大于0.5且小于-0.5的置为1，否则为0\n",
    "numpy.where(numpy.logical_or(gp[:5,:4]>0.5,gp[:5,:4]<-0.5),1,0)"
   ]
  },
  {
   "cell_type": "markdown",
   "metadata": {},
   "source": [
    "### 10.统计运算"
   ]
  },
  {
   "cell_type": "markdown",
   "metadata": {},
   "source": [
    "### 10.1、统计指标函数"
   ]
  },
  {
   "cell_type": "code",
   "execution_count": 137,
   "metadata": {},
   "outputs": [
    {
     "data": {
      "text/plain": [
       "1.0"
      ]
     },
     "execution_count": 137,
     "metadata": {},
     "output_type": "execute_result"
    }
   ],
   "source": [
    "# 用法：numpy.方法名（data）或data.函数名（）\n",
    "# gp.max()\n",
    "# numpy.max(gp)\n",
    "# max：最大值，min：最小值，mean：平均值，median：中位数，var：方差，std：标准差"
   ]
  },
  {
   "cell_type": "code",
   "execution_count": 148,
   "metadata": {},
   "outputs": [
    {
     "data": {
      "text/plain": [
       "array([1., 1., 1., 1.])"
      ]
     },
     "execution_count": 148,
     "metadata": {},
     "output_type": "execute_result"
    }
   ],
   "source": [
    "# 前四只股票前四天的每天最大涨幅\n",
    "temp = gp[:4,:4]\n",
    "temp.max(axis=1)# 指定坐标轴，axis=0按列，axis=1按行"
   ]
  },
  {
   "cell_type": "code",
   "execution_count": 147,
   "metadata": {},
   "outputs": [
    {
     "data": {
      "text/plain": [
       "array([[-1.27122504,  0.45562023,  1.        , -0.80453447],\n",
       "       [-0.11924332,  1.        , -0.47390925, -0.38993907],\n",
       "       [-0.76298534,  0.38730134, -0.63458603,  1.        ],\n",
       "       [-1.6106203 , -1.72099066,  0.04981014,  1.        ]])"
      ]
     },
     "execution_count": 147,
     "metadata": {},
     "output_type": "execute_result"
    }
   ],
   "source": [
    "temp"
   ]
  },
  {
   "cell_type": "code",
   "execution_count": 150,
   "metadata": {
    "scrolled": true
   },
   "outputs": [
    {
     "name": "stdout",
     "output_type": "stream",
     "text": [
      "[2 1 3 3]\n",
      "[0 2 0 1]\n"
     ]
    }
   ],
   "source": [
    "# 获取最大值和最小值的值的位置\n",
    "dataMax = numpy.argmax(temp,axis=1)\n",
    "print(dataMax)\n",
    "dataMin = numpy.argmin(temp,axis=1)\n",
    "print(dataMin)"
   ]
  },
  {
   "cell_type": "markdown",
   "metadata": {},
   "source": [
    "### 11.数组之间运算"
   ]
  },
  {
   "cell_type": "markdown",
   "metadata": {},
   "source": [
    "### 11.1、数组与数的运算"
   ]
  },
  {
   "cell_type": "code",
   "execution_count": 152,
   "metadata": {},
   "outputs": [
    {
     "data": {
      "text/plain": [
       "array([[11, 12, 13, 14],\n",
       "       [15, 16, 17, 18]])"
      ]
     },
     "execution_count": 152,
     "metadata": {},
     "output_type": "execute_result"
    }
   ],
   "source": [
    "arr = numpy.array([[1,2,3,4],[5,6,7,8]])\n",
    "arr+10"
   ]
  },
  {
   "cell_type": "code",
   "execution_count": 153,
   "metadata": {},
   "outputs": [
    {
     "data": {
      "text/plain": [
       "array([[10, 20, 30, 40],\n",
       "       [50, 60, 70, 80]])"
      ]
     },
     "execution_count": 153,
     "metadata": {},
     "output_type": "execute_result"
    }
   ],
   "source": [
    "arr*10"
   ]
  },
  {
   "cell_type": "markdown",
   "metadata": {},
   "source": [
    "### 11.2、数组与数组的运算"
   ]
  },
  {
   "cell_type": "code",
   "execution_count": 154,
   "metadata": {},
   "outputs": [
    {
     "ename": "TypeError",
     "evalue": "data type not understood",
     "output_type": "error",
     "traceback": [
      "\u001b[1;31m---------------------------------------------------------------------------\u001b[0m",
      "\u001b[1;31mTypeError\u001b[0m                                 Traceback (most recent call last)",
      "\u001b[1;32m<ipython-input-154-4824ef20855b>\u001b[0m in \u001b[0;36m<module>\u001b[1;34m\u001b[0m\n\u001b[0;32m      1\u001b[0m \u001b[0marr1\u001b[0m\u001b[1;33m=\u001b[0m \u001b[0mnumpy\u001b[0m\u001b[1;33m.\u001b[0m\u001b[0marray\u001b[0m\u001b[1;33m(\u001b[0m\u001b[1;33m[\u001b[0m\u001b[1;33m[\u001b[0m\u001b[1;36m1\u001b[0m\u001b[1;33m,\u001b[0m\u001b[1;36m2\u001b[0m\u001b[1;33m,\u001b[0m\u001b[1;36m3\u001b[0m\u001b[1;33m,\u001b[0m\u001b[1;36m4\u001b[0m\u001b[1;33m]\u001b[0m\u001b[1;33m,\u001b[0m\u001b[1;33m[\u001b[0m\u001b[1;36m5\u001b[0m\u001b[1;33m,\u001b[0m\u001b[1;36m6\u001b[0m\u001b[1;33m,\u001b[0m\u001b[1;36m7\u001b[0m\u001b[1;33m,\u001b[0m\u001b[1;36m8\u001b[0m\u001b[1;33m]\u001b[0m\u001b[1;33m]\u001b[0m\u001b[1;33m)\u001b[0m\u001b[1;33m\u001b[0m\u001b[1;33m\u001b[0m\u001b[0m\n\u001b[1;32m----> 2\u001b[1;33m \u001b[0marr2\u001b[0m \u001b[1;33m=\u001b[0m \u001b[0mnumpy\u001b[0m\u001b[1;33m.\u001b[0m\u001b[0marray\u001b[0m\u001b[1;33m(\u001b[0m\u001b[1;33m[\u001b[0m\u001b[1;36m1\u001b[0m\u001b[1;33m,\u001b[0m\u001b[1;36m2\u001b[0m\u001b[1;33m,\u001b[0m\u001b[1;36m3\u001b[0m\u001b[1;33m]\u001b[0m\u001b[1;33m,\u001b[0m\u001b[1;33m[\u001b[0m\u001b[1;36m6\u001b[0m\u001b[1;33m,\u001b[0m\u001b[1;36m7\u001b[0m\u001b[1;33m,\u001b[0m\u001b[1;36m8\u001b[0m\u001b[1;33m]\u001b[0m\u001b[1;33m)\u001b[0m\u001b[1;33m\u001b[0m\u001b[1;33m\u001b[0m\u001b[0m\n\u001b[0m\u001b[0;32m      3\u001b[0m \u001b[0marr1\u001b[0m\u001b[1;33m+\u001b[0m\u001b[0marr2\u001b[0m\u001b[1;33m\u001b[0m\u001b[1;33m\u001b[0m\u001b[0m\n",
      "\u001b[1;31mTypeError\u001b[0m: data type not understood"
     ]
    }
   ],
   "source": [
    "arr1= numpy.array([[1,2,3,4],[5,6,7,8]])#（4，4）\n",
    "arr2 = numpy.array([1,2,3],[6,7,8])# （3，3）\n",
    "arr1+arr2"
   ]
  },
  {
   "cell_type": "code",
   "execution_count": 156,
   "metadata": {},
   "outputs": [
    {
     "data": {
      "text/plain": [
       "array([[ 1,  2,  3,  4],\n",
       "       [20, 24, 28, 32]])"
      ]
     },
     "execution_count": 156,
     "metadata": {},
     "output_type": "execute_result"
    }
   ],
   "source": [
    "# 满足这两个条件才能进行数组之间的运算\n",
    "# 1.维度相等\n",
    "# 2.shape(其中相对应的一个地方为1)\n",
    "arr1= numpy.array([[1,2,3,4],[5,6,7,8]])#（2，4）\n",
    "arr2 = numpy.array([[1],\n",
    "                    [4]])# （4，1）\n",
    "arr1*arr2"
   ]
  },
  {
   "cell_type": "markdown",
   "metadata": {},
   "source": [
    "### 11.3、矩阵运算"
   ]
  },
  {
   "cell_type": "code",
   "execution_count": 162,
   "metadata": {},
   "outputs": [],
   "source": [
    "score = numpy.array([[80,86],[82,80],[85,78],[90,90],[86,82],[82,90],[78,80],[92,94]])"
   ]
  },
  {
   "cell_type": "code",
   "execution_count": 167,
   "metadata": {},
   "outputs": [
    {
     "data": {
      "text/plain": [
       "numpy.matrixlib.defmatrix.matrix"
      ]
     },
     "execution_count": 167,
     "metadata": {},
     "output_type": "execute_result"
    }
   ],
   "source": [
    "# 将数组转换成矩阵\n",
    "matData = numpy.mat(score)\n",
    "type(matData)"
   ]
  },
  {
   "cell_type": "markdown",
   "metadata": {},
   "source": [
    "### 11.4、矩阵乘法计算"
   ]
  },
  {
   "cell_type": "code",
   "execution_count": 169,
   "metadata": {},
   "outputs": [
    {
     "data": {
      "text/plain": [
       "matrix([[84.2],\n",
       "        [80.6],\n",
       "        [80.1],\n",
       "        [90. ],\n",
       "        [83.2],\n",
       "        [87.6],\n",
       "        [79.4],\n",
       "        [93.4]])"
      ]
     },
     "execution_count": 169,
     "metadata": {},
     "output_type": "execute_result"
    }
   ],
   "source": [
    "# 矩阵乘法形状变化\n",
    "#(M行，N列)x(N行，L列) = （M行,L列）\n",
    "score = numpy.array([[80,86],[82,80],[85,78],[90,90],[86,82],[82,90],[78,80],[92,94]])\n",
    "qz = numpy.array([[0.3],[0.7]])\n",
    "matScore = numpy.mat(score)\n",
    "matQz = numpy.mat(qz)\n",
    "# 如果是矩阵的话直接相乘\n",
    "matScore*matQz\n"
   ]
  },
  {
   "cell_type": "code",
   "execution_count": 170,
   "metadata": {},
   "outputs": [
    {
     "data": {
      "text/plain": [
       "array([[84.2],\n",
       "       [80.6],\n",
       "       [80.1],\n",
       "       [90. ],\n",
       "       [83.2],\n",
       "       [87.6],\n",
       "       [79.4],\n",
       "       [93.4]])"
      ]
     },
     "execution_count": 170,
     "metadata": {},
     "output_type": "execute_result"
    }
   ],
   "source": [
    "# 如果是array用numpy.matmul()方法\n",
    "numpy.matmul(score,qz)"
   ]
  },
  {
   "cell_type": "markdown",
   "metadata": {},
   "source": [
    "### 12、合并与分割"
   ]
  },
  {
   "cell_type": "markdown",
   "metadata": {},
   "source": [
    "### 12.1、合并"
   ]
  },
  {
   "cell_type": "code",
   "execution_count": 171,
   "metadata": {},
   "outputs": [],
   "source": [
    "# numpy.hstack():水平拼接\n",
    "# numpy.vstack():竖直拼接\n",
    "# numpy.concatenate((data1,data2),axis)：指定轴进行拼接"
   ]
  },
  {
   "cell_type": "markdown",
   "metadata": {},
   "source": [
    "### 12.1.1、水平拼接"
   ]
  },
  {
   "cell_type": "code",
   "execution_count": 177,
   "metadata": {},
   "outputs": [
    {
     "data": {
      "text/plain": [
       "array([1, 2, 3, 4, 5, 6])"
      ]
     },
     "execution_count": 177,
     "metadata": {},
     "output_type": "execute_result"
    }
   ],
   "source": [
    "data1 = numpy.array([1,2,3])\n",
    "data2 = numpy.array([4,5,6])\n",
    "numpy.hstack((data1,data2))"
   ]
  },
  {
   "cell_type": "markdown",
   "metadata": {},
   "source": [
    "### 12.1.2、竖直拼接"
   ]
  },
  {
   "cell_type": "code",
   "execution_count": 178,
   "metadata": {},
   "outputs": [
    {
     "data": {
      "text/plain": [
       "array([[1, 2, 3],\n",
       "       [4, 5, 6]])"
      ]
     },
     "execution_count": 178,
     "metadata": {},
     "output_type": "execute_result"
    }
   ],
   "source": [
    "data11 = numpy.array([1,2,3])\n",
    "data22 = numpy.array([4,5,6])\n",
    "numpy.vstack((data11,data22))"
   ]
  },
  {
   "cell_type": "markdown",
   "metadata": {},
   "source": [
    "### 12.1.3、指定轴进行拼接"
   ]
  },
  {
   "cell_type": "code",
   "execution_count": 179,
   "metadata": {},
   "outputs": [],
   "source": [
    "# 当axis = 1：水平拼接\n",
    "# 当axis =2：竖直拼接"
   ]
  },
  {
   "cell_type": "code",
   "execution_count": 182,
   "metadata": {},
   "outputs": [
    {
     "data": {
      "text/plain": [
       "array([[1, 2, 5],\n",
       "       [3, 4, 6]])"
      ]
     },
     "execution_count": 182,
     "metadata": {},
     "output_type": "execute_result"
    }
   ],
   "source": [
    "a = numpy.array([[1,2],[3,4]])\n",
    "b = numpy.array([[5,6]])\n",
    "numpy.concatenate((a,b.T),axis=1)"
   ]
  },
  {
   "cell_type": "code",
   "execution_count": 184,
   "metadata": {},
   "outputs": [
    {
     "data": {
      "text/plain": [
       "array([[1, 2],\n",
       "       [3, 4],\n",
       "       [5, 6]])"
      ]
     },
     "execution_count": 184,
     "metadata": {},
     "output_type": "execute_result"
    }
   ],
   "source": [
    "a = numpy.array([[1,2],[3,4]])\n",
    "b = numpy.array([[5,6]])\n",
    "numpy.concatenate((a,b),axis=0)"
   ]
  },
  {
   "cell_type": "markdown",
   "metadata": {},
   "source": [
    "### 12.2、分割"
   ]
  },
  {
   "cell_type": "markdown",
   "metadata": {},
   "source": [
    "### 12.2.1、按照数量进行分割"
   ]
  },
  {
   "cell_type": "code",
   "execution_count": 189,
   "metadata": {},
   "outputs": [
    {
     "data": {
      "text/plain": [
       "[array([0, 1, 2]), array([3, 4, 5]), array([6, 7, 8])]"
      ]
     },
     "execution_count": 189,
     "metadata": {},
     "output_type": "execute_result"
    }
   ],
   "source": [
    "x = numpy.arange(0,9)\n",
    "numpy.split(x,3)"
   ]
  },
  {
   "cell_type": "markdown",
   "metadata": {},
   "source": [
    "### 12.2.2、按照索引进行分割"
   ]
  },
  {
   "cell_type": "code",
   "execution_count": 190,
   "metadata": {},
   "outputs": [
    {
     "data": {
      "text/plain": [
       "[array([0, 1, 2]),\n",
       " array([3, 4]),\n",
       " array([5]),\n",
       " array([6, 7, 8]),\n",
       " array([], dtype=int32)]"
      ]
     },
     "execution_count": 190,
     "metadata": {},
     "output_type": "execute_result"
    }
   ],
   "source": [
    "arrIndex = numpy.arange(0,9)\n",
    "numpy.split(arrIndex,[3,5,6,9])"
   ]
  },
  {
   "cell_type": "markdown",
   "metadata": {},
   "source": [
    "### 13、IO操作和数据处理"
   ]
  },
  {
   "cell_type": "markdown",
   "metadata": {},
   "source": [
    "### 13.1、IO操作"
   ]
  },
  {
   "cell_type": "code",
   "execution_count": null,
   "metadata": {},
   "outputs": [],
   "source": []
  },
  {
   "cell_type": "markdown",
   "metadata": {},
   "source": [
    "### 13.2、数据处理"
   ]
  },
  {
   "cell_type": "code",
   "execution_count": 192,
   "metadata": {},
   "outputs": [
    {
     "ename": "NameError",
     "evalue": "name 'nan' is not defined",
     "output_type": "error",
     "traceback": [
      "\u001b[1;31m---------------------------------------------------------------------------\u001b[0m",
      "\u001b[1;31mNameError\u001b[0m                                 Traceback (most recent call last)",
      "\u001b[1;32m<ipython-input-192-4260a585ce36>\u001b[0m in \u001b[0;36m<module>\u001b[1;34m\u001b[0m\n\u001b[1;32m----> 1\u001b[1;33m data = numpy.array([[nan,nan,nan,nan],\n\u001b[0m\u001b[0;32m      2\u001b[0m                     \u001b[1;33m[\u001b[0m\u001b[1;36m1.\u001b[0m\u001b[1;33m,\u001b[0m\u001b[1;36m123.\u001b[0m\u001b[1;33m,\u001b[0m\u001b[1;36m1.4\u001b[0m\u001b[1;33m,\u001b[0m\u001b[1;36m23.\u001b[0m\u001b[1;33m]\u001b[0m\u001b[1;33m,\u001b[0m\u001b[1;33m\u001b[0m\u001b[1;33m\u001b[0m\u001b[0m\n\u001b[0;32m      3\u001b[0m                     \u001b[1;33m[\u001b[0m\u001b[1;36m2.\u001b[0m\u001b[1;33m,\u001b[0m\u001b[1;36m110\u001b[0m\u001b[1;33m,\u001b[0m\u001b[0mnan\u001b[0m\u001b[1;33m,\u001b[0m\u001b[1;36m18.\u001b[0m\u001b[1;33m]\u001b[0m\u001b[1;33m,\u001b[0m\u001b[1;33m\u001b[0m\u001b[1;33m\u001b[0m\u001b[0m\n\u001b[0;32m      4\u001b[0m                     [3.,nan,2.1,19.]],type=\"float64\")\n",
      "\u001b[1;31mNameError\u001b[0m: name 'nan' is not defined"
     ]
    }
   ],
   "source": [
    "data = numpy.array([[nan,nan,nan,nan],\n",
    "                    [1.,123.,1.4,23.],\n",
    "                    [2.,110,nan,18.],\n",
    "                    [3.,nan,2.1,19.]],type=\"float64\")"
   ]
  },
  {
   "cell_type": "code",
   "execution_count": null,
   "metadata": {},
   "outputs": [],
   "source": []
  }
 ],
 "metadata": {
  "kernelspec": {
   "display_name": "Python 3",
   "language": "python",
   "name": "python3"
  },
  "language_info": {
   "codemirror_mode": {
    "name": "ipython",
    "version": 3
   },
   "file_extension": ".py",
   "mimetype": "text/x-python",
   "name": "python",
   "nbconvert_exporter": "python",
   "pygments_lexer": "ipython3",
   "version": "3.7.3"
  }
 },
 "nbformat": 4,
 "nbformat_minor": 2
}
