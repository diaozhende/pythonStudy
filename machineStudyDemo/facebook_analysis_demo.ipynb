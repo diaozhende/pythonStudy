{
 "cells": [
  {
   "cell_type": "code",
   "execution_count": 12,
   "metadata": {},
   "outputs": [],
   "source": [
    "# 1、获取数据\n",
    "import pandas\n",
    "facebook_data = pandas.read_csv(\"E:/python大数据资料\\黑马-02-最简单快速入门python机器学习/资料/机器学习day2资料/02-代码/FBlocation/train.csv\")"
   ]
  },
  {
   "cell_type": "code",
   "execution_count": 13,
   "metadata": {},
   "outputs": [
    {
     "data": {
      "text/html": [
       "<div>\n",
       "<style scoped>\n",
       "    .dataframe tbody tr th:only-of-type {\n",
       "        vertical-align: middle;\n",
       "    }\n",
       "\n",
       "    .dataframe tbody tr th {\n",
       "        vertical-align: top;\n",
       "    }\n",
       "\n",
       "    .dataframe thead th {\n",
       "        text-align: right;\n",
       "    }\n",
       "</style>\n",
       "<table border=\"1\" class=\"dataframe\">\n",
       "  <thead>\n",
       "    <tr style=\"text-align: right;\">\n",
       "      <th></th>\n",
       "      <th>row_id</th>\n",
       "      <th>x</th>\n",
       "      <th>y</th>\n",
       "      <th>accuracy</th>\n",
       "      <th>time</th>\n",
       "      <th>place_id</th>\n",
       "    </tr>\n",
       "  </thead>\n",
       "  <tbody>\n",
       "    <tr>\n",
       "      <th>0</th>\n",
       "      <td>0</td>\n",
       "      <td>0.7941</td>\n",
       "      <td>9.0809</td>\n",
       "      <td>54</td>\n",
       "      <td>470702</td>\n",
       "      <td>8523065625</td>\n",
       "    </tr>\n",
       "    <tr>\n",
       "      <th>1</th>\n",
       "      <td>1</td>\n",
       "      <td>5.9567</td>\n",
       "      <td>4.7968</td>\n",
       "      <td>13</td>\n",
       "      <td>186555</td>\n",
       "      <td>1757726713</td>\n",
       "    </tr>\n",
       "    <tr>\n",
       "      <th>2</th>\n",
       "      <td>2</td>\n",
       "      <td>8.3078</td>\n",
       "      <td>7.0407</td>\n",
       "      <td>74</td>\n",
       "      <td>322648</td>\n",
       "      <td>1137537235</td>\n",
       "    </tr>\n",
       "    <tr>\n",
       "      <th>3</th>\n",
       "      <td>3</td>\n",
       "      <td>7.3665</td>\n",
       "      <td>2.5165</td>\n",
       "      <td>65</td>\n",
       "      <td>704587</td>\n",
       "      <td>6567393236</td>\n",
       "    </tr>\n",
       "    <tr>\n",
       "      <th>4</th>\n",
       "      <td>4</td>\n",
       "      <td>4.0961</td>\n",
       "      <td>1.1307</td>\n",
       "      <td>31</td>\n",
       "      <td>472130</td>\n",
       "      <td>7440663949</td>\n",
       "    </tr>\n",
       "  </tbody>\n",
       "</table>\n",
       "</div>"
      ],
      "text/plain": [
       "   row_id       x       y  accuracy    time    place_id\n",
       "0       0  0.7941  9.0809        54  470702  8523065625\n",
       "1       1  5.9567  4.7968        13  186555  1757726713\n",
       "2       2  8.3078  7.0407        74  322648  1137537235\n",
       "3       3  7.3665  2.5165        65  704587  6567393236\n",
       "4       4  4.0961  1.1307        31  472130  7440663949"
      ]
     },
     "execution_count": 13,
     "metadata": {},
     "output_type": "execute_result"
    }
   ],
   "source": [
    "facebook_data.head()"
   ]
  },
  {
   "cell_type": "code",
   "execution_count": 14,
   "metadata": {},
   "outputs": [],
   "source": [
    "# 2、数据处理\n",
    "# （1）缩小数据范围（3<x<3.5,2<y<2.5）\n",
    "facebook_data = facebook_data.query(\"x>3 & x<3.5 & y>2 & y<2.5\")"
   ]
  },
  {
   "cell_type": "code",
   "execution_count": 15,
   "metadata": {},
   "outputs": [
    {
     "data": {
      "text/html": [
       "<div>\n",
       "<style scoped>\n",
       "    .dataframe tbody tr th:only-of-type {\n",
       "        vertical-align: middle;\n",
       "    }\n",
       "\n",
       "    .dataframe tbody tr th {\n",
       "        vertical-align: top;\n",
       "    }\n",
       "\n",
       "    .dataframe thead th {\n",
       "        text-align: right;\n",
       "    }\n",
       "</style>\n",
       "<table border=\"1\" class=\"dataframe\">\n",
       "  <thead>\n",
       "    <tr style=\"text-align: right;\">\n",
       "      <th></th>\n",
       "      <th>row_id</th>\n",
       "      <th>x</th>\n",
       "      <th>y</th>\n",
       "      <th>accuracy</th>\n",
       "      <th>time</th>\n",
       "      <th>place_id</th>\n",
       "    </tr>\n",
       "  </thead>\n",
       "  <tbody>\n",
       "    <tr>\n",
       "      <th>101</th>\n",
       "      <td>101</td>\n",
       "      <td>3.4777</td>\n",
       "      <td>2.0938</td>\n",
       "      <td>71</td>\n",
       "      <td>115352</td>\n",
       "      <td>3762957785</td>\n",
       "    </tr>\n",
       "    <tr>\n",
       "      <th>463</th>\n",
       "      <td>463</td>\n",
       "      <td>3.2228</td>\n",
       "      <td>2.4060</td>\n",
       "      <td>10</td>\n",
       "      <td>53671</td>\n",
       "      <td>9883722775</td>\n",
       "    </tr>\n",
       "    <tr>\n",
       "      <th>861</th>\n",
       "      <td>861</td>\n",
       "      <td>3.4123</td>\n",
       "      <td>2.1522</td>\n",
       "      <td>66</td>\n",
       "      <td>521528</td>\n",
       "      <td>3631406834</td>\n",
       "    </tr>\n",
       "    <tr>\n",
       "      <th>2255</th>\n",
       "      <td>2255</td>\n",
       "      <td>3.3950</td>\n",
       "      <td>2.3300</td>\n",
       "      <td>30</td>\n",
       "      <td>328984</td>\n",
       "      <td>5802159543</td>\n",
       "    </tr>\n",
       "    <tr>\n",
       "      <th>3260</th>\n",
       "      <td>3260</td>\n",
       "      <td>3.4463</td>\n",
       "      <td>2.1168</td>\n",
       "      <td>9</td>\n",
       "      <td>65262</td>\n",
       "      <td>1894108773</td>\n",
       "    </tr>\n",
       "  </tbody>\n",
       "</table>\n",
       "</div>"
      ],
      "text/plain": [
       "      row_id       x       y  accuracy    time    place_id\n",
       "101      101  3.4777  2.0938        71  115352  3762957785\n",
       "463      463  3.2228  2.4060        10   53671  9883722775\n",
       "861      861  3.4123  2.1522        66  521528  3631406834\n",
       "2255    2255  3.3950  2.3300        30  328984  5802159543\n",
       "3260    3260  3.4463  2.1168         9   65262  1894108773"
      ]
     },
     "execution_count": 15,
     "metadata": {},
     "output_type": "execute_result"
    }
   ],
   "source": [
    "facebook_data.head()"
   ]
  },
  {
   "cell_type": "code",
   "execution_count": 16,
   "metadata": {},
   "outputs": [],
   "source": [
    "# (2)将时间戳转换成年月日时分秒的形式\n",
    "date_data = pandas.to_datetime(facebook_data[\"time\"],unit=\"s\")"
   ]
  },
  {
   "cell_type": "code",
   "execution_count": 18,
   "metadata": {},
   "outputs": [],
   "source": [
    "date = pandas.DatetimeIndex(date_data)"
   ]
  },
  {
   "cell_type": "code",
   "execution_count": 24,
   "metadata": {},
   "outputs": [],
   "source": [
    "facebook_data[\"day\"] = date.day\n",
    "facebook_data[\"weekday\"] = date.weekday\n",
    "facebook_data[\"hour\"] = date.hour"
   ]
  },
  {
   "cell_type": "code",
   "execution_count": 26,
   "metadata": {},
   "outputs": [
    {
     "data": {
      "text/html": [
       "<div>\n",
       "<style scoped>\n",
       "    .dataframe tbody tr th:only-of-type {\n",
       "        vertical-align: middle;\n",
       "    }\n",
       "\n",
       "    .dataframe tbody tr th {\n",
       "        vertical-align: top;\n",
       "    }\n",
       "\n",
       "    .dataframe thead th {\n",
       "        text-align: right;\n",
       "    }\n",
       "</style>\n",
       "<table border=\"1\" class=\"dataframe\">\n",
       "  <thead>\n",
       "    <tr style=\"text-align: right;\">\n",
       "      <th></th>\n",
       "      <th>row_id</th>\n",
       "      <th>x</th>\n",
       "      <th>y</th>\n",
       "      <th>accuracy</th>\n",
       "      <th>time</th>\n",
       "      <th>place_id</th>\n",
       "      <th>day</th>\n",
       "      <th>weekday</th>\n",
       "      <th>hour</th>\n",
       "    </tr>\n",
       "  </thead>\n",
       "  <tbody>\n",
       "    <tr>\n",
       "      <th>101</th>\n",
       "      <td>101</td>\n",
       "      <td>3.4777</td>\n",
       "      <td>2.0938</td>\n",
       "      <td>71</td>\n",
       "      <td>115352</td>\n",
       "      <td>3762957785</td>\n",
       "      <td>2</td>\n",
       "      <td>4</td>\n",
       "      <td>8</td>\n",
       "    </tr>\n",
       "    <tr>\n",
       "      <th>463</th>\n",
       "      <td>463</td>\n",
       "      <td>3.2228</td>\n",
       "      <td>2.4060</td>\n",
       "      <td>10</td>\n",
       "      <td>53671</td>\n",
       "      <td>9883722775</td>\n",
       "      <td>1</td>\n",
       "      <td>3</td>\n",
       "      <td>14</td>\n",
       "    </tr>\n",
       "    <tr>\n",
       "      <th>861</th>\n",
       "      <td>861</td>\n",
       "      <td>3.4123</td>\n",
       "      <td>2.1522</td>\n",
       "      <td>66</td>\n",
       "      <td>521528</td>\n",
       "      <td>3631406834</td>\n",
       "      <td>7</td>\n",
       "      <td>2</td>\n",
       "      <td>0</td>\n",
       "    </tr>\n",
       "    <tr>\n",
       "      <th>2255</th>\n",
       "      <td>2255</td>\n",
       "      <td>3.3950</td>\n",
       "      <td>2.3300</td>\n",
       "      <td>30</td>\n",
       "      <td>328984</td>\n",
       "      <td>5802159543</td>\n",
       "      <td>4</td>\n",
       "      <td>6</td>\n",
       "      <td>19</td>\n",
       "    </tr>\n",
       "    <tr>\n",
       "      <th>3260</th>\n",
       "      <td>3260</td>\n",
       "      <td>3.4463</td>\n",
       "      <td>2.1168</td>\n",
       "      <td>9</td>\n",
       "      <td>65262</td>\n",
       "      <td>1894108773</td>\n",
       "      <td>1</td>\n",
       "      <td>3</td>\n",
       "      <td>18</td>\n",
       "    </tr>\n",
       "  </tbody>\n",
       "</table>\n",
       "</div>"
      ],
      "text/plain": [
       "      row_id       x       y  accuracy    time    place_id  day  weekday  hour\n",
       "101      101  3.4777  2.0938        71  115352  3762957785    2        4     8\n",
       "463      463  3.2228  2.4060        10   53671  9883722775    1        3    14\n",
       "861      861  3.4123  2.1522        66  521528  3631406834    7        2     0\n",
       "2255    2255  3.3950  2.3300        30  328984  5802159543    4        6    19\n",
       "3260    3260  3.4463  2.1168         9   65262  1894108773    1        3    18"
      ]
     },
     "execution_count": 26,
     "metadata": {},
     "output_type": "execute_result"
    }
   ],
   "source": [
    "facebook_data.head()"
   ]
  },
  {
   "cell_type": "code",
   "execution_count": 30,
   "metadata": {},
   "outputs": [],
   "source": [
    "# (3)过滤签到次数少的地点\n",
    "place_count = facebook_data.groupby(\"place_id\").count()[\"row_id\"]"
   ]
  },
  {
   "cell_type": "code",
   "execution_count": 33,
   "metadata": {},
   "outputs": [
    {
     "data": {
      "text/plain": [
       "place_id\n",
       "1006234733    57\n",
       "1008823061     6\n",
       "1012580558     8\n",
       "1025585791    39\n",
       "1031070090    70\n",
       "Name: row_id, dtype: int64"
      ]
     },
     "execution_count": 33,
     "metadata": {},
     "output_type": "execute_result"
    }
   ],
   "source": [
    "place_count[place_count>3].head()"
   ]
  },
  {
   "cell_type": "code",
   "execution_count": 41,
   "metadata": {},
   "outputs": [],
   "source": [
    "facebook_data = facebook_data[facebook_data[\"place_id\"].isin(place_count[place_count>3].index.values)]"
   ]
  },
  {
   "cell_type": "code",
   "execution_count": 42,
   "metadata": {},
   "outputs": [
    {
     "data": {
      "text/html": [
       "<div>\n",
       "<style scoped>\n",
       "    .dataframe tbody tr th:only-of-type {\n",
       "        vertical-align: middle;\n",
       "    }\n",
       "\n",
       "    .dataframe tbody tr th {\n",
       "        vertical-align: top;\n",
       "    }\n",
       "\n",
       "    .dataframe thead th {\n",
       "        text-align: right;\n",
       "    }\n",
       "</style>\n",
       "<table border=\"1\" class=\"dataframe\">\n",
       "  <thead>\n",
       "    <tr style=\"text-align: right;\">\n",
       "      <th></th>\n",
       "      <th>row_id</th>\n",
       "      <th>x</th>\n",
       "      <th>y</th>\n",
       "      <th>accuracy</th>\n",
       "      <th>time</th>\n",
       "      <th>place_id</th>\n",
       "      <th>day</th>\n",
       "      <th>weekday</th>\n",
       "      <th>hour</th>\n",
       "    </tr>\n",
       "  </thead>\n",
       "  <tbody>\n",
       "    <tr>\n",
       "      <th>101</th>\n",
       "      <td>101</td>\n",
       "      <td>3.4777</td>\n",
       "      <td>2.0938</td>\n",
       "      <td>71</td>\n",
       "      <td>115352</td>\n",
       "      <td>3762957785</td>\n",
       "      <td>2</td>\n",
       "      <td>4</td>\n",
       "      <td>8</td>\n",
       "    </tr>\n",
       "    <tr>\n",
       "      <th>463</th>\n",
       "      <td>463</td>\n",
       "      <td>3.2228</td>\n",
       "      <td>2.4060</td>\n",
       "      <td>10</td>\n",
       "      <td>53671</td>\n",
       "      <td>9883722775</td>\n",
       "      <td>1</td>\n",
       "      <td>3</td>\n",
       "      <td>14</td>\n",
       "    </tr>\n",
       "    <tr>\n",
       "      <th>861</th>\n",
       "      <td>861</td>\n",
       "      <td>3.4123</td>\n",
       "      <td>2.1522</td>\n",
       "      <td>66</td>\n",
       "      <td>521528</td>\n",
       "      <td>3631406834</td>\n",
       "      <td>7</td>\n",
       "      <td>2</td>\n",
       "      <td>0</td>\n",
       "    </tr>\n",
       "    <tr>\n",
       "      <th>2255</th>\n",
       "      <td>2255</td>\n",
       "      <td>3.3950</td>\n",
       "      <td>2.3300</td>\n",
       "      <td>30</td>\n",
       "      <td>328984</td>\n",
       "      <td>5802159543</td>\n",
       "      <td>4</td>\n",
       "      <td>6</td>\n",
       "      <td>19</td>\n",
       "    </tr>\n",
       "    <tr>\n",
       "      <th>3260</th>\n",
       "      <td>3260</td>\n",
       "      <td>3.4463</td>\n",
       "      <td>2.1168</td>\n",
       "      <td>9</td>\n",
       "      <td>65262</td>\n",
       "      <td>1894108773</td>\n",
       "      <td>1</td>\n",
       "      <td>3</td>\n",
       "      <td>18</td>\n",
       "    </tr>\n",
       "  </tbody>\n",
       "</table>\n",
       "</div>"
      ],
      "text/plain": [
       "      row_id       x       y  accuracy    time    place_id  day  weekday  hour\n",
       "101      101  3.4777  2.0938        71  115352  3762957785    2        4     8\n",
       "463      463  3.2228  2.4060        10   53671  9883722775    1        3    14\n",
       "861      861  3.4123  2.1522        66  521528  3631406834    7        2     0\n",
       "2255    2255  3.3950  2.3300        30  328984  5802159543    4        6    19\n",
       "3260    3260  3.4463  2.1168         9   65262  1894108773    1        3    18"
      ]
     },
     "execution_count": 42,
     "metadata": {},
     "output_type": "execute_result"
    }
   ],
   "source": [
    "facebook_data.head()"
   ]
  },
  {
   "cell_type": "code",
   "execution_count": 46,
   "metadata": {},
   "outputs": [],
   "source": [
    "# 筛选特征值(x)和目标值(y)\n",
    "x = facebook_data[[\"x\",\"y\",\"accuracy\",\"day\",\"weekday\",\"hour\"]]\n",
    "y = facebook_data[\"place_id\"]"
   ]
  },
  {
   "cell_type": "code",
   "execution_count": 45,
   "metadata": {},
   "outputs": [
    {
     "data": {
      "text/html": [
       "<div>\n",
       "<style scoped>\n",
       "    .dataframe tbody tr th:only-of-type {\n",
       "        vertical-align: middle;\n",
       "    }\n",
       "\n",
       "    .dataframe tbody tr th {\n",
       "        vertical-align: top;\n",
       "    }\n",
       "\n",
       "    .dataframe thead th {\n",
       "        text-align: right;\n",
       "    }\n",
       "</style>\n",
       "<table border=\"1\" class=\"dataframe\">\n",
       "  <thead>\n",
       "    <tr style=\"text-align: right;\">\n",
       "      <th></th>\n",
       "      <th>x</th>\n",
       "      <th>y</th>\n",
       "      <th>accuracy</th>\n",
       "      <th>day</th>\n",
       "      <th>weekday</th>\n",
       "      <th>hour</th>\n",
       "    </tr>\n",
       "  </thead>\n",
       "  <tbody>\n",
       "    <tr>\n",
       "      <th>101</th>\n",
       "      <td>3.4777</td>\n",
       "      <td>2.0938</td>\n",
       "      <td>71</td>\n",
       "      <td>2</td>\n",
       "      <td>4</td>\n",
       "      <td>8</td>\n",
       "    </tr>\n",
       "    <tr>\n",
       "      <th>463</th>\n",
       "      <td>3.2228</td>\n",
       "      <td>2.4060</td>\n",
       "      <td>10</td>\n",
       "      <td>1</td>\n",
       "      <td>3</td>\n",
       "      <td>14</td>\n",
       "    </tr>\n",
       "    <tr>\n",
       "      <th>861</th>\n",
       "      <td>3.4123</td>\n",
       "      <td>2.1522</td>\n",
       "      <td>66</td>\n",
       "      <td>7</td>\n",
       "      <td>2</td>\n",
       "      <td>0</td>\n",
       "    </tr>\n",
       "    <tr>\n",
       "      <th>2255</th>\n",
       "      <td>3.3950</td>\n",
       "      <td>2.3300</td>\n",
       "      <td>30</td>\n",
       "      <td>4</td>\n",
       "      <td>6</td>\n",
       "      <td>19</td>\n",
       "    </tr>\n",
       "    <tr>\n",
       "      <th>3260</th>\n",
       "      <td>3.4463</td>\n",
       "      <td>2.1168</td>\n",
       "      <td>9</td>\n",
       "      <td>1</td>\n",
       "      <td>3</td>\n",
       "      <td>18</td>\n",
       "    </tr>\n",
       "  </tbody>\n",
       "</table>\n",
       "</div>"
      ],
      "text/plain": [
       "           x       y  accuracy  day  weekday  hour\n",
       "101   3.4777  2.0938        71    2        4     8\n",
       "463   3.2228  2.4060        10    1        3    14\n",
       "861   3.4123  2.1522        66    7        2     0\n",
       "2255  3.3950  2.3300        30    4        6    19\n",
       "3260  3.4463  2.1168         9    1        3    18"
      ]
     },
     "execution_count": 45,
     "metadata": {},
     "output_type": "execute_result"
    }
   ],
   "source": [
    "x.head()"
   ]
  },
  {
   "cell_type": "code",
   "execution_count": 48,
   "metadata": {},
   "outputs": [
    {
     "data": {
      "text/plain": [
       "101     3762957785\n",
       "463     9883722775\n",
       "861     3631406834\n",
       "2255    5802159543\n",
       "3260    1894108773\n",
       "Name: place_id, dtype: int64"
      ]
     },
     "execution_count": 48,
     "metadata": {},
     "output_type": "execute_result"
    }
   ],
   "source": [
    "y.head()"
   ]
  },
  {
   "cell_type": "code",
   "execution_count": 68,
   "metadata": {},
   "outputs": [],
   "source": [
    "from sklearn.model_selection import train_test_split\n",
    "from sklearn.preprocessing import StandardScaler\n",
    "from sklearn.neighbors import KNeighborsClassifier\n",
    "from sklearn.model_selection import GridSearchCV"
   ]
  },
  {
   "cell_type": "code",
   "execution_count": 51,
   "metadata": {},
   "outputs": [],
   "source": [
    "#  3、划分数据集\n",
    "x_train,x_test,y_train,y_test = train_test_split(x,y)"
   ]
  },
  {
   "cell_type": "code",
   "execution_count": 64,
   "metadata": {},
   "outputs": [],
   "source": [
    "# 4、特征工程(标准化)\n",
    "trainsfer = StandardScaler()\n",
    "x_train = trainsfer.fit_transform(x_train)\n",
    "x_test = trainsfer.transform(x_test)"
   ]
  },
  {
   "cell_type": "code",
   "execution_count": 65,
   "metadata": {},
   "outputs": [],
   "source": [
    "# 5、knn算法预估器\n",
    "knn = KNeighborsClassifier()"
   ]
  },
  {
   "cell_type": "code",
   "execution_count": 71,
   "metadata": {},
   "outputs": [],
   "source": [
    "# 6、添加网格搜索和交叉验证来进行模型调优\n",
    "param_dict = {\"n_neighbors\":[3, 5, 7, 9]}\n",
    "knn = GridSearchCV(knn,param_grid= param_dict,cv=3)"
   ]
  },
  {
   "cell_type": "code",
   "execution_count": 72,
   "metadata": {},
   "outputs": [
    {
     "name": "stderr",
     "output_type": "stream",
     "text": [
      "D:\\Program Files\\Anaconda3\\lib\\site-packages\\sklearn\\model_selection\\_split.py:657: Warning: The least populated class in y has only 1 members, which is too few. The minimum number of members in any class cannot be less than n_splits=3.\n",
      "  % (min_groups, self.n_splits)), Warning)\n"
     ]
    },
    {
     "data": {
      "text/plain": [
       "GridSearchCV(cv=3, error_score='raise-deprecating',\n",
       "             estimator=KNeighborsClassifier(algorithm='auto', leaf_size=30,\n",
       "                                            metric='minkowski',\n",
       "                                            metric_params=None, n_jobs=None,\n",
       "                                            n_neighbors=5, p=2,\n",
       "                                            weights='uniform'),\n",
       "             iid='warn', n_jobs=None, param_grid={'n_neighbors': [3, 5, 7, 9]},\n",
       "             pre_dispatch='2*n_jobs', refit=True, return_train_score=False,\n",
       "             scoring=None, verbose=0)"
      ]
     },
     "execution_count": 72,
     "metadata": {},
     "output_type": "execute_result"
    }
   ],
   "source": [
    "knn.fit(x_train,y_train)"
   ]
  },
  {
   "cell_type": "code",
   "execution_count": 73,
   "metadata": {},
   "outputs": [
    {
     "name": "stdout",
     "output_type": "stream",
     "text": [
      "predict:\n",
      " [1362464377 4121420392 5335762826 ... 4476640394 4561558464 1025585791]\n",
      "直接对比真实值和预估值:\n",
      " 2517313      True\n",
      "10882551    False\n",
      "19705385    False\n",
      "25673759    False\n",
      "5945165      True\n",
      "7895978     False\n",
      "3841300      True\n",
      "16347476    False\n",
      "4416525      True\n",
      "1189075     False\n",
      "28246128    False\n",
      "1840449     False\n",
      "7233299     False\n",
      "11229869     True\n",
      "9257613     False\n",
      "626618      False\n",
      "2821348     False\n",
      "27821024    False\n",
      "19804879    False\n",
      "9867808      True\n",
      "17422354    False\n",
      "23086707     True\n",
      "8020336      True\n",
      "20956560    False\n",
      "19909947    False\n",
      "15024591    False\n",
      "2776297     False\n",
      "20128845    False\n",
      "25849689    False\n",
      "26550061    False\n",
      "            ...  \n",
      "25457053    False\n",
      "2572127      True\n",
      "27317927     True\n",
      "4225885      True\n",
      "7310883     False\n",
      "26806005    False\n",
      "24672138    False\n",
      "3104504     False\n",
      "1331995      True\n",
      "19846061    False\n",
      "23326775    False\n",
      "16997759    False\n",
      "27974040    False\n",
      "3929501     False\n",
      "12895495    False\n",
      "523783      False\n",
      "4024024     False\n",
      "13752824    False\n",
      "9437646     False\n",
      "20276618     True\n",
      "16128734    False\n",
      "22106342    False\n",
      "696966      False\n",
      "22980635    False\n",
      "16650453    False\n",
      "17369392    False\n",
      "25962194     True\n",
      "8202596     False\n",
      "24373403    False\n",
      "1086720     False\n",
      "Name: place_id, Length: 17154, dtype: bool\n",
      "准确率： 0.3700011659088259\n",
      "最佳参数： {'n_neighbors': 7}\n",
      "最佳结果： 0.34441011290541984\n",
      "最佳估计器： KNeighborsClassifier(algorithm='auto', leaf_size=30, metric='minkowski',\n",
      "                     metric_params=None, n_jobs=None, n_neighbors=7, p=2,\n",
      "                     weights='uniform')\n",
      "交叉验证结果： {'mean_fit_time': array([0.09666554, 0.08999928, 0.09330336, 0.09611026]), 'std_fit_time': array([0.01484007, 0.00163258, 0.00615828, 0.00981136]), 'mean_score_time': array([2.04699993, 2.13104502, 2.3953654 , 2.58348036]), 'std_score_time': array([0.20438804, 0.07404388, 0.32309057, 0.03327124]), 'param_n_neighbors': masked_array(data=[3, 5, 7, 9],\n",
      "             mask=[False, False, False, False],\n",
      "       fill_value='?',\n",
      "            dtype=object), 'params': [{'n_neighbors': 3}, {'n_neighbors': 5}, {'n_neighbors': 7}, {'n_neighbors': 9}], 'split0_test_score': array([0.3275714 , 0.33615706, 0.33707286, 0.33243661]), 'split1_test_score': array([0.33002684, 0.34298051, 0.3460147 , 0.34309721]), 'split2_test_score': array([0.33287834, 0.35038576, 0.35038576, 0.34700297]), 'mean_test_score': array([0.3301269 , 0.34308867, 0.34441011, 0.34075672]), 'std_test_score': array([0.00216782, 0.00580966, 0.00555228, 0.00617271]), 'rank_test_score': array([4, 2, 1, 3])}\n"
     ]
    }
   ],
   "source": [
    "# 5、模型评估\n",
    "# 方法一：直接比对真实值和预估值\n",
    "predict = knn.predict(x_test)\n",
    "print(\"predict:\\n\",predict)\n",
    "print(\"直接对比真实值和预估值:\\n\", y_test == predict)\n",
    "# 方法二：计算准确率\n",
    "score = knn.score(x_test,y_test)\n",
    "print(\"准确率：\",score)\n",
    "# 最佳参数\n",
    "print(\"最佳参数：\",knn.best_params_)\n",
    "# 最佳结果\n",
    "print(\"最佳结果：\",knn.best_score_)\n",
    "# 最佳估计器\n",
    "print(\"最佳估计器：\",knn.best_estimator_)\n",
    "# 交叉验证结果\n",
    "print(\"交叉验证结果：\",knn.cv_results_)"
   ]
  },
  {
   "cell_type": "code",
   "execution_count": null,
   "metadata": {},
   "outputs": [],
   "source": []
  }
 ],
 "metadata": {
  "kernelspec": {
   "display_name": "Python 3",
   "language": "python",
   "name": "python3"
  },
  "language_info": {
   "codemirror_mode": {
    "name": "ipython",
    "version": 3
   },
   "file_extension": ".py",
   "mimetype": "text/x-python",
   "name": "python",
   "nbconvert_exporter": "python",
   "pygments_lexer": "ipython3",
   "version": "3.7.3"
  }
 },
 "nbformat": 4,
 "nbformat_minor": 2
}
