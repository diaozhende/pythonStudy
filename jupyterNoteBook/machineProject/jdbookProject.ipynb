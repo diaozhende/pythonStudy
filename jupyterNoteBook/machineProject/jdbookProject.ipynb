{
 "cells": [
  {
   "cell_type": "code",
   "execution_count": 1,
   "metadata": {},
   "outputs": [],
   "source": [
    "import numpy\n",
    "import pandas\n",
    "import pymysql\n",
    "import matplotlib.pylab"
   ]
  },
  {
   "cell_type": "code",
   "execution_count": 3,
   "metadata": {},
   "outputs": [],
   "source": [
    "conn = pymysql.connect(\"127.0.0.1\",\"root\",\"root\",\"pythontestdb\")\n",
    "book_data = pandas.read_sql_query(\"select id,productName,SUBSTRING(price,2) price,shopPrice,content,press,SUBSTRING_INDEX(commentCount,'条',1) commentCount,imageUrl from jdbook\",con=conn)"
   ]
  },
  {
   "cell_type": "code",
   "execution_count": 4,
   "metadata": {},
   "outputs": [
    {
     "data": {
      "text/html": [
       "<div>\n",
       "<style scoped>\n",
       "    .dataframe tbody tr th:only-of-type {\n",
       "        vertical-align: middle;\n",
       "    }\n",
       "\n",
       "    .dataframe tbody tr th {\n",
       "        vertical-align: top;\n",
       "    }\n",
       "\n",
       "    .dataframe thead th {\n",
       "        text-align: right;\n",
       "    }\n",
       "</style>\n",
       "<table border=\"1\" class=\"dataframe\">\n",
       "  <thead>\n",
       "    <tr style=\"text-align: right;\">\n",
       "      <th></th>\n",
       "      <th>id</th>\n",
       "      <th>productName</th>\n",
       "      <th>price</th>\n",
       "      <th>shopPrice</th>\n",
       "      <th>content</th>\n",
       "      <th>press</th>\n",
       "      <th>commentCount</th>\n",
       "      <th>imageUrl</th>\n",
       "    </tr>\n",
       "  </thead>\n",
       "  <tbody>\n",
       "    <tr>\n",
       "      <th>0</th>\n",
       "      <td>0001cfc0-d21d-11e9-b610-184f325a09b6</td>\n",
       "      <td>软件工程案例教程 一线名师倾力编著软件工程案例教程。</td>\n",
       "      <td>398.00</td>\n",
       "      <td>111</td>\n",
       "      <td>商品简介</td>\n",
       "      <td>赛络易考吧</td>\n",
       "      <td>42</td>\n",
       "      <td>/img/fff7e4be-d21c-11e9-9e44-184f325a09b6.jpg</td>\n",
       "    </tr>\n",
       "    <tr>\n",
       "      <th>1</th>\n",
       "      <td>00042dc2-d21c-11e9-95b0-184f325a09b6</td>\n",
       "      <td>2019年卫生职称考试（中医儿科学-主治医师）易考宝典试题库软件/强化训练/历年真题/模拟...</td>\n",
       "      <td>198.00</td>\n",
       "      <td>111</td>\n",
       "      <td>商品简介</td>\n",
       "      <td>赛络易考吧</td>\n",
       "      <td>0</td>\n",
       "      <td>/img/fff6da8a-d21b-11e9-bf74-184f325a09b6.jpg</td>\n",
       "    </tr>\n",
       "    <tr>\n",
       "      <th>2</th>\n",
       "      <td>000d4162-d21d-11e9-b1e9-184f325a09b6</td>\n",
       "      <td>2019年注册会计师全国统一考试（专业阶段）（含6科）易考宝典试题库软件/强化训练/历年真...</td>\n",
       "      <td>78.00</td>\n",
       "      <td>111</td>\n",
       "      <td>商品简介</td>\n",
       "      <td>国防工业出版社</td>\n",
       "      <td>5</td>\n",
       "      <td>/img/0002ba22-d21d-11e9-8a20-184f325a09b6.jpg</td>\n",
       "    </tr>\n",
       "    <tr>\n",
       "      <th>3</th>\n",
       "      <td>00135b64-d21c-11e9-a2dd-184f325a09b6</td>\n",
       "      <td>2019年黑龙江事业单位招聘考试（行政能力测试+地质学基础知识）易考宝典试题库软件/强化训...</td>\n",
       "      <td>109.00</td>\n",
       "      <td>111</td>\n",
       "      <td>商品简介</td>\n",
       "      <td>赛络易考吧</td>\n",
       "      <td>0</td>\n",
       "      <td>/img/0004fb2c-d21c-11e9-8289-184f325a09b6.jpg</td>\n",
       "    </tr>\n",
       "    <tr>\n",
       "      <th>4</th>\n",
       "      <td>001a87e4-d21d-11e9-ab91-184f325a09b6</td>\n",
       "      <td>【二手旧书9成新】敏捷软件开发工具：精益开发方法 【正版现货，下单即发，注意售价高于定价】</td>\n",
       "      <td>47.10</td>\n",
       "      <td>111</td>\n",
       "      <td>商品简介</td>\n",
       "      <td>机械工业出版社</td>\n",
       "      <td>0</td>\n",
       "      <td>/img/000e2be4-d21d-11e9-9170-184f325a09b6.jpg</td>\n",
       "    </tr>\n",
       "  </tbody>\n",
       "</table>\n",
       "</div>"
      ],
      "text/plain": [
       "                                     id  \\\n",
       "0  0001cfc0-d21d-11e9-b610-184f325a09b6   \n",
       "1  00042dc2-d21c-11e9-95b0-184f325a09b6   \n",
       "2  000d4162-d21d-11e9-b1e9-184f325a09b6   \n",
       "3  00135b64-d21c-11e9-a2dd-184f325a09b6   \n",
       "4  001a87e4-d21d-11e9-ab91-184f325a09b6   \n",
       "\n",
       "                                         productName   price shopPrice  \\\n",
       "0                         软件工程案例教程 一线名师倾力编著软件工程案例教程。  398.00       111   \n",
       "1   2019年卫生职称考试（中医儿科学-主治医师）易考宝典试题库软件/强化训练/历年真题/模拟...  198.00       111   \n",
       "2   2019年注册会计师全国统一考试（专业阶段）（含6科）易考宝典试题库软件/强化训练/历年真...   78.00       111   \n",
       "3   2019年黑龙江事业单位招聘考试（行政能力测试+地质学基础知识）易考宝典试题库软件/强化训...  109.00       111   \n",
       "4      【二手旧书9成新】敏捷软件开发工具：精益开发方法 【正版现货，下单即发，注意售价高于定价】   47.10       111   \n",
       "\n",
       "  content    press commentCount                                       imageUrl  \n",
       "0    商品简介    赛络易考吧           42  /img/fff7e4be-d21c-11e9-9e44-184f325a09b6.jpg  \n",
       "1    商品简介    赛络易考吧            0  /img/fff6da8a-d21b-11e9-bf74-184f325a09b6.jpg  \n",
       "2    商品简介  国防工业出版社            5  /img/0002ba22-d21d-11e9-8a20-184f325a09b6.jpg  \n",
       "3    商品简介    赛络易考吧            0  /img/0004fb2c-d21c-11e9-8289-184f325a09b6.jpg  \n",
       "4    商品简介  机械工业出版社            0  /img/000e2be4-d21d-11e9-9170-184f325a09b6.jpg  "
      ]
     },
     "execution_count": 4,
     "metadata": {},
     "output_type": "execute_result"
    }
   ],
   "source": [
    "book_data.head()"
   ]
  },
  {
   "cell_type": "code",
   "execution_count": 1,
   "metadata": {},
   "outputs": [
    {
     "ename": "NameError",
     "evalue": "name 'pandas' is not defined",
     "output_type": "error",
     "traceback": [
      "\u001b[1;31m---------------------------------------------------------------------------\u001b[0m",
      "\u001b[1;31mNameError\u001b[0m                                 Traceback (most recent call last)",
      "\u001b[1;32m<ipython-input-1-181f76ec0a40>\u001b[0m in \u001b[0;36m<module>\u001b[1;34m\u001b[0m\n\u001b[1;32m----> 1\u001b[1;33m \u001b[0mpandas\u001b[0m\u001b[1;33m.\u001b[0m\u001b[0mnotnull\u001b[0m\u001b[1;33m(\u001b[0m\u001b[0mbook_data\u001b[0m\u001b[1;33m)\u001b[0m\u001b[1;33m.\u001b[0m\u001b[0mall\u001b[0m\u001b[1;33m(\u001b[0m\u001b[1;33m)\u001b[0m\u001b[1;33m\u001b[0m\u001b[1;33m\u001b[0m\u001b[0m\n\u001b[0m",
      "\u001b[1;31mNameError\u001b[0m: name 'pandas' is not defined"
     ]
    }
   ],
   "source": [
    "pandas.notnull(book_data).all()"
   ]
  },
  {
   "cell_type": "code",
   "execution_count": 132,
   "metadata": {},
   "outputs": [],
   "source": [
    "book_data = book_data.head(1000)"
   ]
  },
  {
   "cell_type": "markdown",
   "metadata": {},
   "source": [
    "### 画散点图"
   ]
  },
  {
   "cell_type": "code",
   "execution_count": 9,
   "metadata": {},
   "outputs": [
    {
     "data": {
      "image/png": "[encoded data removed]",
      "text/plain": [
       "<Figure size 1600x640 with 1 Axes>"
      ]
     },
     "metadata": {
      "needs_background": "light"
     },
     "output_type": "display_data"
    }
   ],
   "source": [
    "# 1、创建画布\n",
    "matplotlib.pylab.figure(figsize=(20,8),dpi=80)\n",
    "# 2、绘制图像\n",
    "price = book_data[\"price\"]\n",
    "price = price.astype(\"float32\")\n",
    "price = price.astype(\"int32\")\n",
    "commentCount = book_data[\"commentCount\"]\n",
    "commentCount = commentCount.astype(\"float\")\n",
    "commentCount = commentCount.astype(\"int32\")\n",
    "matplotlib.pylab.scatter(price,commentCount)\n",
    "# 修改y轴的刻度\n",
    "y_label = numpy.arange(0,price.max(),100,dtype=\"int32\")\n",
    "x_label = numpy.arange(0,commentCount.max(),500,dtype=\"int32\")\n",
    "matplotlib.pylab.xticks(x_label)\n",
    "matplotlib.pylab.yticks(y_label)\n",
    "\n",
    "# 添加网格\n",
    "matplotlib.pylab.grid(linestyle=\"--\",alpha=0.5)\n",
    "\n",
    "# 3、显示图像\n",
    "matplotlib.pylab.show()"
   ]
  },
  {
   "cell_type": "code",
   "execution_count": 6,
   "metadata": {},
   "outputs": [
    {
     "data": {
      "text/plain": [
       "1564"
      ]
     },
     "execution_count": 6,
     "metadata": {},
     "output_type": "execute_result"
    }
   ],
   "source": [
    "price.max()"
   ]
  },
  {
   "cell_type": "code",
   "execution_count": 7,
   "metadata": {},
   "outputs": [
    {
     "data": {
      "text/plain": [
       "86992"
      ]
     },
     "execution_count": 7,
     "metadata": {},
     "output_type": "execute_result"
    }
   ],
   "source": [
    "commentCount.max()"
   ]
  },
  {
   "cell_type": "code",
   "execution_count": null,
   "metadata": {},
   "outputs": [],
   "source": []
  }
 ],
 "metadata": {
  "kernelspec": {
   "display_name": "Python 3",
   "language": "python",
   "name": "python3"
  },
  "language_info": {
   "codemirror_mode": {
    "name": "ipython",
    "version": 3
   },
   "file_extension": ".py",
   "mimetype": "text/x-python",
   "name": "python",
   "nbconvert_exporter": "python",
   "pygments_lexer": "ipython3",
   "version": "3.7.3"
  }
 },
 "nbformat": 4,
 "nbformat_minor": 2
}
