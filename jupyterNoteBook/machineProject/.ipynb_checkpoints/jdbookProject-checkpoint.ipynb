{
 "cells": [
  {
   "cell_type": "code",
   "execution_count": 4,
   "metadata": {},
   "outputs": [],
   "source": [
    "import numpy\n",
    "import pandas\n",
    "import pymysql\n",
    "import matplotlib.pylab"
   ]
  },
  {
   "cell_type": "code",
   "execution_count": 6,
   "metadata": {},
   "outputs": [],
   "source": [
    "conn = pymysql.connect(\"127.0.0.1\",\"root\",\"root\",\"pythontestdb\")\n",
    "book_data = pandas.read_sql_query(\"select * from jdbook\",con=conn)"
   ]
  },
  {
   "cell_type": "code",
   "execution_count": 9,
   "metadata": {},
   "outputs": [
    {
     "data": {
      "text/html": [
       "<div>\n",
       "<style scoped>\n",
       "    .dataframe tbody tr th:only-of-type {\n",
       "        vertical-align: middle;\n",
       "    }\n",
       "\n",
       "    .dataframe tbody tr th {\n",
       "        vertical-align: top;\n",
       "    }\n",
       "\n",
       "    .dataframe thead th {\n",
       "        text-align: right;\n",
       "    }\n",
       "</style>\n",
       "<table border=\"1\" class=\"dataframe\">\n",
       "  <thead>\n",
       "    <tr style=\"text-align: right;\">\n",
       "      <th></th>\n",
       "      <th>id</th>\n",
       "      <th>productName</th>\n",
       "      <th>price</th>\n",
       "      <th>shopPrice</th>\n",
       "      <th>content</th>\n",
       "      <th>press</th>\n",
       "      <th>commentCount</th>\n",
       "      <th>imageUrl</th>\n",
       "    </tr>\n",
       "  </thead>\n",
       "  <tbody>\n",
       "    <tr>\n",
       "      <th>3793</th>\n",
       "      <td>ffd39c6c-d21b-11e9-8ca3-184f325a09b6</td>\n",
       "      <td>2019年中学教师招聘考试（信息技术）（含高中）易考宝典试题库软件/强化训练/历年真题/模...</td>\n",
       "      <td>¥218.00</td>\n",
       "      <td>111</td>\n",
       "      <td>商品简介</td>\n",
       "      <td>赛络易考吧</td>\n",
       "      <td>0条评论</td>\n",
       "      <td>/img/ffc0eea2-d21b-11e9-9549-184f325a09b6.jpg</td>\n",
       "    </tr>\n",
       "    <tr>\n",
       "      <th>3794</th>\n",
       "      <td>ffe3af68-d21c-11e9-bdf8-184f325a09b6</td>\n",
       "      <td>PHP开发实例大全(提高卷) 软件开发技术联盟 9787302392736</td>\n",
       "      <td>¥74.24</td>\n",
       "      <td>111</td>\n",
       "      <td>商品简介</td>\n",
       "      <td>清华大学出版社</td>\n",
       "      <td>1条评论</td>\n",
       "      <td>/img/ffd3be4c-d21c-11e9-ab21-184f325a09b6.jpg</td>\n",
       "    </tr>\n",
       "    <tr>\n",
       "      <th>3795</th>\n",
       "      <td>ffe5c0f0-d21b-11e9-a697-184f325a09b6</td>\n",
       "      <td>2019年河南教师招聘考试（教育基础知识+职业能力测试）（小学）易考宝典试题库软件/强化训...</td>\n",
       "      <td>¥168.00</td>\n",
       "      <td>111</td>\n",
       "      <td>商品简介</td>\n",
       "      <td>赛络易考吧</td>\n",
       "      <td>0条评论</td>\n",
       "      <td>/img/ffd48300-d21b-11e9-adcd-184f325a09b6.jpg</td>\n",
       "    </tr>\n",
       "    <tr>\n",
       "      <th>3796</th>\n",
       "      <td>fff61614-d21b-11e9-95a9-184f325a09b6</td>\n",
       "      <td>2019年助理物业管理师（国家三级）职业资格考试易考宝典试题库软件/强化训练/历年真题/模...</td>\n",
       "      <td>¥198.00</td>\n",
       "      <td>111</td>\n",
       "      <td>商品简介</td>\n",
       "      <td>赛络易考吧</td>\n",
       "      <td>0条评论</td>\n",
       "      <td>/img/ffe6abca-d21b-11e9-9970-184f325a09b6.jpg</td>\n",
       "    </tr>\n",
       "    <tr>\n",
       "      <th>3797</th>\n",
       "      <td>fff6fa4a-d21c-11e9-aaa8-184f325a09b6</td>\n",
       "      <td>PHP开发实例大全(基础卷) 软件开发技术联盟著 9787302384748</td>\n",
       "      <td>¥32.50</td>\n",
       "      <td>111</td>\n",
       "      <td>商品简介</td>\n",
       "      <td>电子工业出版社</td>\n",
       "      <td>0条评论</td>\n",
       "      <td>/img/ffe499f0-d21c-11e9-bdd2-184f325a09b6.jpg</td>\n",
       "    </tr>\n",
       "  </tbody>\n",
       "</table>\n",
       "</div>"
      ],
      "text/plain": [
       "                                        id  \\\n",
       "3793  ffd39c6c-d21b-11e9-8ca3-184f325a09b6   \n",
       "3794  ffe3af68-d21c-11e9-bdf8-184f325a09b6   \n",
       "3795  ffe5c0f0-d21b-11e9-a697-184f325a09b6   \n",
       "3796  fff61614-d21b-11e9-95a9-184f325a09b6   \n",
       "3797  fff6fa4a-d21c-11e9-aaa8-184f325a09b6   \n",
       "\n",
       "                                            productName    price shopPrice  \\\n",
       "3793   2019年中学教师招聘考试（信息技术）（含高中）易考宝典试题库软件/强化训练/历年真题/模...  ¥218.00       111   \n",
       "3794             PHP开发实例大全(提高卷) 软件开发技术联盟 9787302392736    ¥74.24       111   \n",
       "3795   2019年河南教师招聘考试（教育基础知识+职业能力测试）（小学）易考宝典试题库软件/强化训...  ¥168.00       111   \n",
       "3796   2019年助理物业管理师（国家三级）职业资格考试易考宝典试题库软件/强化训练/历年真题/模...  ¥198.00       111   \n",
       "3797            PHP开发实例大全(基础卷) 软件开发技术联盟著 9787302384748    ¥32.50       111   \n",
       "\n",
       "     content    press commentCount  \\\n",
       "3793    商品简介    赛络易考吧         0条评论   \n",
       "3794    商品简介  清华大学出版社         1条评论   \n",
       "3795    商品简介    赛络易考吧         0条评论   \n",
       "3796    商品简介    赛络易考吧         0条评论   \n",
       "3797    商品简介  电子工业出版社         0条评论   \n",
       "\n",
       "                                           imageUrl  \n",
       "3793  /img/ffc0eea2-d21b-11e9-9549-184f325a09b6.jpg  \n",
       "3794  /img/ffd3be4c-d21c-11e9-ab21-184f325a09b6.jpg  \n",
       "3795  /img/ffd48300-d21b-11e9-adcd-184f325a09b6.jpg  \n",
       "3796  /img/ffe6abca-d21b-11e9-9970-184f325a09b6.jpg  \n",
       "3797  /img/ffe499f0-d21c-11e9-bdd2-184f325a09b6.jpg  "
      ]
     },
     "execution_count": 9,
     "metadata": {},
     "output_type": "execute_result"
    }
   ],
   "source": [
    "book_data.tail()"
   ]
  },
  {
   "cell_type": "code",
   "execution_count": 18,
   "metadata": {},
   "outputs": [
    {
     "data": {
      "text/plain": [
       "id              True\n",
       "productName     True\n",
       "price           True\n",
       "shopPrice       True\n",
       "content         True\n",
       "press           True\n",
       "commentCount    True\n",
       "imageUrl        True\n",
       "dtype: bool"
      ]
     },
     "execution_count": 18,
     "metadata": {},
     "output_type": "execute_result"
    }
   ],
   "source": [
    "pandas.notnull(book_data).all()"
   ]
  },
  {
   "cell_type": "code",
   "execution_count": null,
   "metadata": {},
   "outputs": [],
   "source": []
  }
 ],
 "metadata": {
  "kernelspec": {
   "display_name": "Python 3",
   "language": "python",
   "name": "python3"
  },
  "language_info": {
   "codemirror_mode": {
    "name": "ipython",
    "version": 3
   },
   "file_extension": ".py",
   "mimetype": "text/x-python",
   "name": "python",
   "nbconvert_exporter": "python",
   "pygments_lexer": "ipython3",
   "version": "3.7.3"
  }
 },
 "nbformat": 4,
 "nbformat_minor": 2
}
