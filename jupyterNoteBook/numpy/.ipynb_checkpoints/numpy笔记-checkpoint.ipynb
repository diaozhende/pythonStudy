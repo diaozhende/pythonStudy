{
 "cells": [
  {
   "cell_type": "code",
   "execution_count": 1,
   "metadata": {},
   "outputs": [],
   "source": [
    "import numpy"
   ]
  },
  {
   "cell_type": "markdown",
   "metadata": {},
   "source": [
    "### 1、ndarray属性"
   ]
  },
  {
   "cell_type": "code",
   "execution_count": 4,
   "metadata": {},
   "outputs": [],
   "source": [
    "# 定义一个ndarray\n",
    "data = numpy.array([[1,2,3,4],[1,2,3,4],[1,2,3,4],[1,2,3,4]])"
   ]
  },
  {
   "cell_type": "code",
   "execution_count": 6,
   "metadata": {},
   "outputs": [
    {
     "data": {
      "text/plain": [
       "(4, 4)"
      ]
     },
     "execution_count": 6,
     "metadata": {},
     "output_type": "execute_result"
    }
   ],
   "source": [
    "# (1)array形状\n",
    "data.shape"
   ]
  },
  {
   "cell_type": "code",
   "execution_count": 7,
   "metadata": {},
   "outputs": [
    {
     "data": {
      "text/plain": [
       "2"
      ]
     },
     "execution_count": 7,
     "metadata": {},
     "output_type": "execute_result"
    }
   ],
   "source": [
    "# (2)array维度\n",
    "data.ndim"
   ]
  },
  {
   "cell_type": "code",
   "execution_count": 8,
   "metadata": {},
   "outputs": [
    {
     "data": {
      "text/plain": [
       "dtype('int32')"
      ]
     },
     "execution_count": 8,
     "metadata": {},
     "output_type": "execute_result"
    }
   ],
   "source": [
    "# (3)array类型\n",
    "data.dtype"
   ]
  },
  {
   "cell_type": "markdown",
   "metadata": {},
   "source": [
    "### 2、ndarray类型"
   ]
  },
  {
   "cell_type": "code",
   "execution_count": 14,
   "metadata": {},
   "outputs": [
    {
     "data": {
      "text/plain": [
       "array([1., 2., 3., 4.])"
      ]
     },
     "execution_count": 14,
     "metadata": {},
     "output_type": "execute_result"
    }
   ],
   "source": [
    "# 创建指定类型的数组\n",
    "data1 = numpy.array([1,2,3,4],dtype=\"float32\")\n",
    "data1\n",
    "data2 = numpy.array([1,2,3,4],dtype=numpy.float64)\n",
    "data2"
   ]
  },
  {
   "cell_type": "markdown",
   "metadata": {},
   "source": [
    "### 3、生成一个array数组的方法"
   ]
  },
  {
   "cell_type": "markdown",
   "metadata": {},
   "source": [
    "#### (1)生成0和1的数组"
   ]
  },
  {
   "cell_type": "code",
   "execution_count": 16,
   "metadata": {},
   "outputs": [
    {
     "data": {
      "text/plain": [
       "array([[0, 0, 0, 0],\n",
       "       [0, 0, 0, 0],\n",
       "       [0, 0, 0, 0],\n",
       "       [0, 0, 0, 0]], dtype=int64)"
      ]
     },
     "execution_count": 16,
     "metadata": {},
     "output_type": "execute_result"
    }
   ],
   "source": [
    "# 生成0的数组\n",
    "numpy.zeros((4,4),dtype=\"int64\")# (行，列)"
   ]
  },
  {
   "cell_type": "code",
   "execution_count": 18,
   "metadata": {},
   "outputs": [
    {
     "data": {
      "text/plain": [
       "array([[1, 1, 1],\n",
       "       [1, 1, 1],\n",
       "       [1, 1, 1]])"
      ]
     },
     "execution_count": 18,
     "metadata": {},
     "output_type": "execute_result"
    }
   ],
   "source": [
    "# 生成1的数组\n",
    "numpy.ones((3,3),dtype=\"int32\")"
   ]
  },
  {
   "cell_type": "markdown",
   "metadata": {},
   "source": [
    "#### (2)从现有数组中生成"
   ]
  },
  {
   "cell_type": "code",
   "execution_count": 147,
   "metadata": {},
   "outputs": [
    {
     "data": {
      "text/plain": [
       "array([[80, 89, 86, 67, 90],\n",
       "       [78, 97, 89, 67, 81],\n",
       "       [90, 94, 78, 67, 74],\n",
       "       [91, 91, 90, 67, 69],\n",
       "       [76, 87, 75, 67, 86],\n",
       "       [70, 79, 84, 67, 84],\n",
       "       [94, 97, 83, 67, 64],\n",
       "       [94, 97, 83, 67, 64]])"
      ]
     },
     "execution_count": 147,
     "metadata": {},
     "output_type": "execute_result"
    }
   ],
   "source": [
    "data = numpy.array([[80,89,86,67,90],\n",
    "                    [78,97,89,67,81],\n",
    "                   [90,94,78,67,74],\n",
    "                   [91,91,90,67,69],\n",
    "                   [76,87,75,67,86],\n",
    "                   [70,79,84,67,84],\n",
    "                   [94,97,83,67,64],\n",
    "                   [94,97,83,67,64]])\n",
    "data"
   ]
  },
  {
   "cell_type": "code",
   "execution_count": 22,
   "metadata": {},
   "outputs": [
    {
     "data": {
      "text/plain": [
       "array([[80, 89, 86, 67, 90],\n",
       "       [78, 97, 89, 67, 81],\n",
       "       [90, 94, 78, 67, 74],\n",
       "       [91, 91, 90, 67, 69],\n",
       "       [76, 87, 75, 67, 86],\n",
       "       [70, 79, 84, 67, 84],\n",
       "       [94, 97, 83, 67, 64],\n",
       "       [94, 97, 83, 67, 64]])"
      ]
     },
     "execution_count": 22,
     "metadata": {},
     "output_type": "execute_result"
    }
   ],
   "source": [
    "# numpy.array(data)***深拷贝\n",
    "data1 = numpy.array(data)\n",
    "data1"
   ]
  },
  {
   "cell_type": "code",
   "execution_count": 25,
   "metadata": {},
   "outputs": [
    {
     "data": {
      "text/plain": [
       "array([[80, 89, 86, 67, 90],\n",
       "       [78, 97, 89, 67, 81],\n",
       "       [90, 94, 78, 67, 74],\n",
       "       [91, 91, 90, 67, 69],\n",
       "       [76, 87, 75, 67, 86],\n",
       "       [70, 79, 84, 67, 84],\n",
       "       [94, 97, 83, 67, 64],\n",
       "       [94, 97, 83, 67, 64]])"
      ]
     },
     "execution_count": 25,
     "metadata": {},
     "output_type": "execute_result"
    }
   ],
   "source": [
    "# numpy.copy(data)***深拷贝\n",
    "data3 = numpy.copy(data)\n",
    "data3"
   ]
  },
  {
   "cell_type": "code",
   "execution_count": 148,
   "metadata": {},
   "outputs": [
    {
     "data": {
      "text/plain": [
       "array([[80, 89, 86, 67, 90],\n",
       "       [78, 97, 89, 67, 81],\n",
       "       [90, 94, 78, 67, 74],\n",
       "       [91, 91, 90, 67, 69],\n",
       "       [76, 87, 75, 67, 86],\n",
       "       [70, 79, 84, 67, 84],\n",
       "       [94, 97, 83, 67, 64],\n",
       "       [94, 97, 83, 67, 64]])"
      ]
     },
     "execution_count": 148,
     "metadata": {},
     "output_type": "execute_result"
    }
   ],
   "source": [
    "# numpy.asarray(data)***浅拷贝\n",
    "data2 = numpy.asarray(data)\n",
    "data2"
   ]
  },
  {
   "cell_type": "code",
   "execution_count": 26,
   "metadata": {},
   "outputs": [],
   "source": [
    "data[1][1] = 1000000"
   ]
  },
  {
   "cell_type": "code",
   "execution_count": 27,
   "metadata": {},
   "outputs": [
    {
     "data": {
      "text/plain": [
       "array([[80, 89, 86, 67, 90],\n",
       "       [78, 97, 89, 67, 81],\n",
       "       [90, 94, 78, 67, 74],\n",
       "       [91, 91, 90, 67, 69],\n",
       "       [76, 87, 75, 67, 86],\n",
       "       [70, 79, 84, 67, 84],\n",
       "       [94, 97, 83, 67, 64],\n",
       "       [94, 97, 83, 67, 64]])"
      ]
     },
     "execution_count": 27,
     "metadata": {},
     "output_type": "execute_result"
    }
   ],
   "source": [
    "data1"
   ]
  },
  {
   "cell_type": "code",
   "execution_count": 28,
   "metadata": {},
   "outputs": [
    {
     "data": {
      "text/plain": [
       "array([[     80,      89,      86,      67,      90],\n",
       "       [     78, 1000000,      89,      67,      81],\n",
       "       [     90,      94,      78,      67,      74],\n",
       "       [     91,      91,      90,      67,      69],\n",
       "       [     76,      87,      75,      67,      86],\n",
       "       [     70,      79,      84,      67,      84],\n",
       "       [     94,      97,      83,      67,      64],\n",
       "       [     94,      97,      83,      67,      64]])"
      ]
     },
     "execution_count": 28,
     "metadata": {},
     "output_type": "execute_result"
    }
   ],
   "source": [
    "data2"
   ]
  },
  {
   "cell_type": "code",
   "execution_count": 29,
   "metadata": {},
   "outputs": [
    {
     "data": {
      "text/plain": [
       "array([[80, 89, 86, 67, 90],\n",
       "       [78, 97, 89, 67, 81],\n",
       "       [90, 94, 78, 67, 74],\n",
       "       [91, 91, 90, 67, 69],\n",
       "       [76, 87, 75, 67, 86],\n",
       "       [70, 79, 84, 67, 84],\n",
       "       [94, 97, 83, 67, 64],\n",
       "       [94, 97, 83, 67, 64]])"
      ]
     },
     "execution_count": 29,
     "metadata": {},
     "output_type": "execute_result"
    }
   ],
   "source": [
    "data3"
   ]
  },
  {
   "cell_type": "code",
   "execution_count": 30,
   "metadata": {},
   "outputs": [],
   "source": [
    "# 总结：深拷贝和浅拷贝的区别在于，深拷贝当原始值改变之后，浅拷贝的值保持不变，浅拷贝的值发生改变"
   ]
  },
  {
   "cell_type": "markdown",
   "metadata": {},
   "source": [
    "#### （3）生成固定范围的数组"
   ]
  },
  {
   "cell_type": "code",
   "execution_count": 31,
   "metadata": {},
   "outputs": [
    {
     "data": {
      "text/plain": [
       "array([ 1.        ,  1.09090909,  1.18181818,  1.27272727,  1.36363636,\n",
       "        1.45454545,  1.54545455,  1.63636364,  1.72727273,  1.81818182,\n",
       "        1.90909091,  2.        ,  2.09090909,  2.18181818,  2.27272727,\n",
       "        2.36363636,  2.45454545,  2.54545455,  2.63636364,  2.72727273,\n",
       "        2.81818182,  2.90909091,  3.        ,  3.09090909,  3.18181818,\n",
       "        3.27272727,  3.36363636,  3.45454545,  3.54545455,  3.63636364,\n",
       "        3.72727273,  3.81818182,  3.90909091,  4.        ,  4.09090909,\n",
       "        4.18181818,  4.27272727,  4.36363636,  4.45454545,  4.54545455,\n",
       "        4.63636364,  4.72727273,  4.81818182,  4.90909091,  5.        ,\n",
       "        5.09090909,  5.18181818,  5.27272727,  5.36363636,  5.45454545,\n",
       "        5.54545455,  5.63636364,  5.72727273,  5.81818182,  5.90909091,\n",
       "        6.        ,  6.09090909,  6.18181818,  6.27272727,  6.36363636,\n",
       "        6.45454545,  6.54545455,  6.63636364,  6.72727273,  6.81818182,\n",
       "        6.90909091,  7.        ,  7.09090909,  7.18181818,  7.27272727,\n",
       "        7.36363636,  7.45454545,  7.54545455,  7.63636364,  7.72727273,\n",
       "        7.81818182,  7.90909091,  8.        ,  8.09090909,  8.18181818,\n",
       "        8.27272727,  8.36363636,  8.45454545,  8.54545455,  8.63636364,\n",
       "        8.72727273,  8.81818182,  8.90909091,  9.        ,  9.09090909,\n",
       "        9.18181818,  9.27272727,  9.36363636,  9.45454545,  9.54545455,\n",
       "        9.63636364,  9.72727273,  9.81818182,  9.90909091, 10.        ])"
      ]
     },
     "execution_count": 31,
     "metadata": {},
     "output_type": "execute_result"
    }
   ],
   "source": [
    "# numpy.linspace(1,10,100)# 生成一个1-10的一个数组，等距离生成100个，左闭右闭\n",
    "numpy.linspace(1,10,100)"
   ]
  },
  {
   "cell_type": "code",
   "execution_count": 32,
   "metadata": {},
   "outputs": [
    {
     "data": {
      "text/plain": [
       "array([1, 4, 7])"
      ]
     },
     "execution_count": 32,
     "metadata": {},
     "output_type": "execute_result"
    }
   ],
   "source": [
    "# numpy.arange(a,b,c)生成a-b的数组，左闭右开，c是步长\n",
    "numpy.arange(1,10,3)"
   ]
  },
  {
   "cell_type": "markdown",
   "metadata": {},
   "source": [
    "### 4、生成一个随机数组"
   ]
  },
  {
   "cell_type": "code",
   "execution_count": 33,
   "metadata": {},
   "outputs": [],
   "source": [
    "import random"
   ]
  },
  {
   "cell_type": "markdown",
   "metadata": {},
   "source": [
    "#### (1)生成一个均匀分布的数组\n"
   ]
  },
  {
   "cell_type": "code",
   "execution_count": 41,
   "metadata": {},
   "outputs": [],
   "source": [
    "data = numpy.random.uniform(low=-1,high=1,size=1000000)# 下限，上限，个数，左闭右开"
   ]
  },
  {
   "cell_type": "code",
   "execution_count": 36,
   "metadata": {},
   "outputs": [],
   "source": [
    "from matplotlib import pylab"
   ]
  },
  {
   "cell_type": "code",
   "execution_count": 42,
   "metadata": {},
   "outputs": [
    {
     "data": {
      "image/png": "[encoded data removed]",
      "text/plain": [
       "<Figure size 1600x640 with 1 Axes>"
      ]
     },
     "metadata": {
      "needs_background": "light"
     },
     "output_type": "display_data"
    }
   ],
   "source": [
    "pylab.figure(figsize=(20,8),dpi=80)\n",
    "pylab.hist(data,1000)\n",
    "pylab.show()"
   ]
  },
  {
   "cell_type": "markdown",
   "metadata": {},
   "source": [
    "#### (2)生成一个正态分布的数组"
   ]
  },
  {
   "cell_type": "code",
   "execution_count": 44,
   "metadata": {},
   "outputs": [],
   "source": [
    "datanor = numpy.random.normal(loc=1.75,scale=0.1,size=1000000)# 平均值，方差，个数"
   ]
  },
  {
   "cell_type": "code",
   "execution_count": 45,
   "metadata": {},
   "outputs": [
    {
     "data": {
      "image/png": "[encoded data removed]",
      "text/plain": [
       "<Figure size 1600x640 with 1 Axes>"
      ]
     },
     "metadata": {
      "needs_background": "light"
     },
     "output_type": "display_data"
    }
   ],
   "source": [
    "pylab.figure(figsize=(20,8),dpi=80)\n",
    "pylab.hist(data,10000)\n",
    "pylab.show()"
   ]
  },
  {
   "cell_type": "markdown",
   "metadata": {},
   "source": [
    "### 案例：随机生成8只股票两周的交易日涨幅数据"
   ]
  },
  {
   "cell_type": "code",
   "execution_count": 47,
   "metadata": {},
   "outputs": [],
   "source": [
    "# 随机生成涨幅在某个正态分布内，均值是0，方差是1\n",
    "gp = numpy.random.normal(loc=0,scale=1,size=(8,10))"
   ]
  },
  {
   "cell_type": "markdown",
   "metadata": {},
   "source": [
    "### 5、数组的切片和索引"
   ]
  },
  {
   "cell_type": "code",
   "execution_count": 49,
   "metadata": {},
   "outputs": [
    {
     "data": {
      "text/plain": [
       "array([-1.58336238,  0.12557675, -0.81869697,  0.5056744 ])"
      ]
     },
     "execution_count": 49,
     "metadata": {},
     "output_type": "execute_result"
    }
   ],
   "source": [
    "# 获取第一个股票前四天的涨幅数据\n",
    "gp[0,:4]# 行，列(从左到右0-4)"
   ]
  },
  {
   "cell_type": "markdown",
   "metadata": {},
   "source": [
    "### 6、修改形状"
   ]
  },
  {
   "cell_type": "code",
   "execution_count": 50,
   "metadata": {},
   "outputs": [
    {
     "data": {
      "text/plain": [
       "array([[-1.58336238e+00,  1.25576750e-01, -8.18696967e-01,\n",
       "         5.05674399e-01, -8.97301672e-01, -1.51461308e+00,\n",
       "         2.08526721e+00, -4.38451837e-01,  5.55298301e-01,\n",
       "        -7.87846160e-01],\n",
       "       [ 8.96946726e-01,  1.06843227e-01, -1.06368715e+00,\n",
       "        -5.67566223e-01,  1.86269469e-01, -6.18154623e-01,\n",
       "         3.63192549e-01,  9.20889075e-01,  3.80932244e-01,\n",
       "         3.57795426e-03],\n",
       "       [-2.74816502e-01,  4.47686376e-01,  6.97714995e-01,\n",
       "         7.09180789e-01,  7.33232561e-01,  3.11005316e-01,\n",
       "         1.83517160e-01,  2.45330943e-04, -1.19585655e-01,\n",
       "         8.88866412e-01],\n",
       "       [ 2.16447011e-01,  3.13027790e-01, -5.07557220e-01,\n",
       "         1.08804789e+00,  8.42242388e-01, -2.03006777e-01,\n",
       "        -2.38458194e-01, -1.70034430e-02,  5.94929973e-01,\n",
       "         1.69680548e+00],\n",
       "       [ 1.91201952e-01,  1.17355561e+00, -6.76709892e-01,\n",
       "         1.02053581e+00, -2.79091325e-01,  1.34965048e+00,\n",
       "        -1.95073372e+00, -7.41689370e-01,  1.10633653e+00,\n",
       "        -5.61745370e-01],\n",
       "       [ 8.24426077e-01, -1.71780170e-01, -4.60032097e-01,\n",
       "         2.13138053e+00,  7.17692997e-01, -4.37157985e-01,\n",
       "        -5.16570851e-03,  3.87599308e-01, -1.38603741e-01,\n",
       "         1.10981182e+00],\n",
       "       [-2.51241022e+00, -2.47217033e-01, -8.53493133e-02,\n",
       "         1.50014854e+00,  4.57825842e-02,  9.87580805e-01,\n",
       "        -1.41390229e+00, -1.01783903e+00, -1.04224176e+00,\n",
       "         1.75603073e+00],\n",
       "       [ 7.61126416e-01,  7.17695834e-01, -2.89718770e-02,\n",
       "         5.63252876e-01, -4.04063622e-02, -1.52423357e-01,\n",
       "         1.40651051e-01, -9.05567244e-01, -2.07542742e+00,\n",
       "        -3.86732363e-01]])"
      ]
     },
     "execution_count": 50,
     "metadata": {},
     "output_type": "execute_result"
    }
   ],
   "source": [
    "gp"
   ]
  },
  {
   "cell_type": "code",
   "execution_count": 54,
   "metadata": {},
   "outputs": [
    {
     "data": {
      "text/plain": [
       "array([[-1.58336238e+00,  1.25576750e-01, -8.18696967e-01,\n",
       "         5.05674399e-01, -8.97301672e-01, -1.51461308e+00,\n",
       "         2.08526721e+00, -4.38451837e-01],\n",
       "       [ 5.55298301e-01, -7.87846160e-01,  8.96946726e-01,\n",
       "         1.06843227e-01, -1.06368715e+00, -5.67566223e-01,\n",
       "         1.86269469e-01, -6.18154623e-01],\n",
       "       [ 3.63192549e-01,  9.20889075e-01,  3.80932244e-01,\n",
       "         3.57795426e-03, -2.74816502e-01,  4.47686376e-01,\n",
       "         6.97714995e-01,  7.09180789e-01],\n",
       "       [ 7.33232561e-01,  3.11005316e-01,  1.83517160e-01,\n",
       "         2.45330943e-04, -1.19585655e-01,  8.88866412e-01,\n",
       "         2.16447011e-01,  3.13027790e-01],\n",
       "       [-5.07557220e-01,  1.08804789e+00,  8.42242388e-01,\n",
       "        -2.03006777e-01, -2.38458194e-01, -1.70034430e-02,\n",
       "         5.94929973e-01,  1.69680548e+00],\n",
       "       [ 1.91201952e-01,  1.17355561e+00, -6.76709892e-01,\n",
       "         1.02053581e+00, -2.79091325e-01,  1.34965048e+00,\n",
       "        -1.95073372e+00, -7.41689370e-01],\n",
       "       [ 1.10633653e+00, -5.61745370e-01,  8.24426077e-01,\n",
       "        -1.71780170e-01, -4.60032097e-01,  2.13138053e+00,\n",
       "         7.17692997e-01, -4.37157985e-01],\n",
       "       [-5.16570851e-03,  3.87599308e-01, -1.38603741e-01,\n",
       "         1.10981182e+00, -2.51241022e+00, -2.47217033e-01,\n",
       "        -8.53493133e-02,  1.50014854e+00],\n",
       "       [ 4.57825842e-02,  9.87580805e-01, -1.41390229e+00,\n",
       "        -1.01783903e+00, -1.04224176e+00,  1.75603073e+00,\n",
       "         7.61126416e-01,  7.17695834e-01],\n",
       "       [-2.89718770e-02,  5.63252876e-01, -4.04063622e-02,\n",
       "        -1.52423357e-01,  1.40651051e-01, -9.05567244e-01,\n",
       "        -2.07542742e+00, -3.86732363e-01]])"
      ]
     },
     "execution_count": 54,
     "metadata": {},
     "output_type": "execute_result"
    }
   ],
   "source": [
    "# (1)将股票数据行列进行翻转\n",
    "gp1 = gp.reshape(10,8)\n",
    "gp1\n",
    "# 将数组进行重新排列，排列成(10,8)\n",
    "# 对原始值没有影响"
   ]
  },
  {
   "cell_type": "code",
   "execution_count": 58,
   "metadata": {},
   "outputs": [
    {
     "data": {
      "text/plain": [
       "array([[-1.58336238e+00,  1.25576750e-01, -8.18696967e-01,\n",
       "         5.05674399e-01, -8.97301672e-01, -1.51461308e+00,\n",
       "         2.08526721e+00, -4.38451837e-01],\n",
       "       [ 5.55298301e-01, -7.87846160e-01,  8.96946726e-01,\n",
       "         1.06843227e-01, -1.06368715e+00, -5.67566223e-01,\n",
       "         1.86269469e-01, -6.18154623e-01],\n",
       "       [ 3.63192549e-01,  9.20889075e-01,  3.80932244e-01,\n",
       "         3.57795426e-03, -2.74816502e-01,  4.47686376e-01,\n",
       "         6.97714995e-01,  7.09180789e-01],\n",
       "       [ 7.33232561e-01,  3.11005316e-01,  1.83517160e-01,\n",
       "         2.45330943e-04, -1.19585655e-01,  8.88866412e-01,\n",
       "         2.16447011e-01,  3.13027790e-01],\n",
       "       [-5.07557220e-01,  1.08804789e+00,  8.42242388e-01,\n",
       "        -2.03006777e-01, -2.38458194e-01, -1.70034430e-02,\n",
       "         5.94929973e-01,  1.69680548e+00],\n",
       "       [ 1.91201952e-01,  1.17355561e+00, -6.76709892e-01,\n",
       "         1.02053581e+00, -2.79091325e-01,  1.34965048e+00,\n",
       "        -1.95073372e+00, -7.41689370e-01],\n",
       "       [ 1.10633653e+00, -5.61745370e-01,  8.24426077e-01,\n",
       "        -1.71780170e-01, -4.60032097e-01,  2.13138053e+00,\n",
       "         7.17692997e-01, -4.37157985e-01],\n",
       "       [-5.16570851e-03,  3.87599308e-01, -1.38603741e-01,\n",
       "         1.10981182e+00, -2.51241022e+00, -2.47217033e-01,\n",
       "        -8.53493133e-02,  1.50014854e+00],\n",
       "       [ 4.57825842e-02,  9.87580805e-01, -1.41390229e+00,\n",
       "        -1.01783903e+00, -1.04224176e+00,  1.75603073e+00,\n",
       "         7.61126416e-01,  7.17695834e-01],\n",
       "       [-2.89718770e-02,  5.63252876e-01, -4.04063622e-02,\n",
       "        -1.52423357e-01,  1.40651051e-01, -9.05567244e-01,\n",
       "        -2.07542742e+00, -3.86732363e-01]])"
      ]
     },
     "execution_count": 58,
     "metadata": {},
     "output_type": "execute_result"
    }
   ],
   "source": [
    "# (2)data.resize()\n",
    "gp.resize((10,8))\n",
    "gp\n",
    "# 没有返回值，对原始值进行修改"
   ]
  },
  {
   "cell_type": "code",
   "execution_count": 62,
   "metadata": {},
   "outputs": [],
   "source": [
    "# (3)data.T:对数组进行转置，行变成列，列变成行\n",
    "newGP = numpy.random.normal(loc=0,scale=1,size=(8,10))"
   ]
  },
  {
   "cell_type": "code",
   "execution_count": 64,
   "metadata": {},
   "outputs": [
    {
     "data": {
      "text/plain": [
       "array([[ 0.14905908,  0.62615937,  0.11227932, -2.32257207, -0.6609535 ,\n",
       "         0.34603206, -0.05447575, -2.28252441],\n",
       "       [-0.36252073, -0.13381409,  0.29066176, -0.28857083, -1.76557229,\n",
       "        -0.8915302 , -0.63784445, -1.93707616],\n",
       "       [-1.18431895, -0.38429513,  1.31048712,  0.05340735, -0.28184133,\n",
       "         0.34044473, -0.89007799, -1.29898789],\n",
       "       [-0.74471099,  0.72577599,  2.25962484, -0.36978996, -1.12600138,\n",
       "        -0.04636337,  0.46465935,  0.395504  ],\n",
       "       [-0.11482784,  0.53158255, -2.3083295 , -0.11040259,  0.97760242,\n",
       "        -1.03728167, -1.22965327,  0.89129394],\n",
       "       [ 0.65721852, -0.99637847,  1.7554283 ,  1.17494871,  0.40028916,\n",
       "         1.04956827, -0.19353222,  1.9490526 ],\n",
       "       [ 0.3819657 ,  1.33438159,  0.59220395, -1.31917798,  0.47548196,\n",
       "         0.64631271,  0.38256196, -1.05791144],\n",
       "       [-0.96019547,  1.06242952,  2.1541401 , -0.85619924,  2.54934257,\n",
       "         0.62264006,  0.22427776, -0.36660592],\n",
       "       [-0.17935387,  1.43443478, -0.19963488,  0.40749344, -0.35857305,\n",
       "         3.26854356,  0.63916383, -1.26254209],\n",
       "       [-1.21079625,  0.31488015,  0.80031868, -2.14321189,  0.57689618,\n",
       "        -1.51002592, -1.37986628,  0.33172929]])"
      ]
     },
     "execution_count": 64,
     "metadata": {},
     "output_type": "execute_result"
    }
   ],
   "source": [
    "newGPT = newGP.T\n",
    "newGPT"
   ]
  },
  {
   "cell_type": "markdown",
   "metadata": {},
   "source": [
    "### 7、类型的修改"
   ]
  },
  {
   "cell_type": "code",
   "execution_count": 66,
   "metadata": {},
   "outputs": [
    {
     "data": {
      "text/plain": [
       "array([[ 0.58085738, -0.2355683 ,  0.31098702, -1.01963743,  0.23631513,\n",
       "         0.49604044, -0.56344732,  1.34302776,  0.82536945,  1.33305759],\n",
       "       [-0.72033402, -1.49940714,  1.4132904 , -1.00303453,  0.4836997 ,\n",
       "         0.50226283,  0.79942215, -0.25581642, -1.47488588, -1.50262515],\n",
       "       [ 0.34727866,  0.41499888,  0.5438888 ,  0.3073954 , -0.88959657,\n",
       "         1.33700703,  0.59424236,  0.159505  ,  1.33663731,  0.92848154],\n",
       "       [-1.1617172 ,  0.50154215, -0.79165436, -0.89855062, -0.11222191,\n",
       "         0.66139432, -0.43313767, -0.51003758,  0.52704302, -1.4536804 ],\n",
       "       [ 0.73309401, -0.56087721, -0.44582639,  0.10421087,  0.51423033,\n",
       "         0.13368913,  0.11821884, -0.34632546,  1.04520601,  2.20286437],\n",
       "       [ 0.22281754, -0.29778281,  1.12357169,  0.14371911, -0.36082476,\n",
       "         0.99238589,  0.1434587 ,  0.08429673, -2.23196441,  0.17191763],\n",
       "       [ 0.16527218, -0.413541  , -0.22697832,  1.12052313, -1.14839176,\n",
       "         0.03469266,  0.95003829, -1.57164868,  0.00616163, -0.4012151 ],\n",
       "       [ 0.68102762,  0.33857266,  1.79178877,  1.12621494,  0.1572153 ,\n",
       "         0.46144452,  1.1361656 ,  0.82596489,  0.39709708, -0.64559571]])"
      ]
     },
     "execution_count": 66,
     "metadata": {},
     "output_type": "execute_result"
    }
   ],
   "source": [
    "gp = numpy.random.normal(loc=0,scale=1,size=(8,10))\n",
    "gp"
   ]
  },
  {
   "cell_type": "code",
   "execution_count": 67,
   "metadata": {},
   "outputs": [
    {
     "data": {
      "text/plain": [
       "array([[ 0,  0,  0, -1,  0,  0,  0,  1,  0,  1],\n",
       "       [ 0, -1,  1, -1,  0,  0,  0,  0, -1, -1],\n",
       "       [ 0,  0,  0,  0,  0,  1,  0,  0,  1,  0],\n",
       "       [-1,  0,  0,  0,  0,  0,  0,  0,  0, -1],\n",
       "       [ 0,  0,  0,  0,  0,  0,  0,  0,  1,  2],\n",
       "       [ 0,  0,  1,  0,  0,  0,  0,  0, -2,  0],\n",
       "       [ 0,  0,  0,  1, -1,  0,  0, -1,  0,  0],\n",
       "       [ 0,  0,  1,  1,  0,  0,  1,  0,  0,  0]])"
      ]
     },
     "execution_count": 67,
     "metadata": {},
     "output_type": "execute_result"
    }
   ],
   "source": [
    "gp.astype(\"int32\")"
   ]
  },
  {
   "cell_type": "markdown",
   "metadata": {},
   "source": [
    "### 8、数组去重"
   ]
  },
  {
   "cell_type": "code",
   "execution_count": 158,
   "metadata": {},
   "outputs": [
    {
     "data": {
      "text/plain": [
       "array([[1, 2, 3, 4],\n",
       "       [3, 4, 5, 6]])"
      ]
     },
     "execution_count": 158,
     "metadata": {},
     "output_type": "execute_result"
    }
   ],
   "source": [
    "# numpy.unique(data)\n",
    "data = numpy.array([[1,2,3,4],[3,4,5,6]])\n",
    "data"
   ]
  },
  {
   "cell_type": "code",
   "execution_count": 160,
   "metadata": {},
   "outputs": [
    {
     "data": {
      "text/plain": [
       "array([1, 2, 3, 4, 5, 6])"
      ]
     },
     "execution_count": 160,
     "metadata": {},
     "output_type": "execute_result"
    }
   ],
   "source": [
    "newdata = numpy.unique(data)\n",
    "newdata"
   ]
  },
  {
   "cell_type": "markdown",
   "metadata": {},
   "source": [
    "### 9、adarrya逻辑运算"
   ]
  },
  {
   "cell_type": "code",
   "execution_count": 161,
   "metadata": {},
   "outputs": [],
   "source": [
    "gp = numpy.random.normal(loc=0,scale=1,size=(8,10))"
   ]
  },
  {
   "cell_type": "code",
   "execution_count": 163,
   "metadata": {},
   "outputs": [
    {
     "data": {
      "text/plain": [
       "array([[ True, False, False, False, False, False,  True,  True, False,\n",
       "         True],\n",
       "       [ True, False, False, False, False, False, False, False, False,\n",
       "        False],\n",
       "       [False, False, False, False, False, False, False,  True, False,\n",
       "        False],\n",
       "       [False,  True, False,  True, False, False,  True,  True, False,\n",
       "        False],\n",
       "       [False, False, False,  True,  True, False, False, False,  True,\n",
       "        False],\n",
       "       [ True,  True, False,  True, False,  True,  True, False, False,\n",
       "        False],\n",
       "       [ True, False,  True, False, False, False, False, False, False,\n",
       "        False],\n",
       "       [False,  True,  True, False,  True, False, False, False,  True,\n",
       "         True]])"
      ]
     },
     "execution_count": 163,
     "metadata": {},
     "output_type": "execute_result"
    }
   ],
   "source": [
    "# (1)如果涨幅大于0.5，标记为True否则标记为False\n",
    "newData = gp>0.5\n",
    "newData"
   ]
  },
  {
   "cell_type": "code",
   "execution_count": 76,
   "metadata": {},
   "outputs": [
    {
     "data": {
      "text/plain": [
       "array([1.54805419, 0.88852143, 1.07858179, 1.24507023, 1.07281689,\n",
       "       2.51855241, 2.35002185, 0.81659189, 1.25813077, 0.75420609,\n",
       "       0.888218  , 2.25197459, 0.65967493, 0.7661002 , 0.56387407,\n",
       "       0.50470874, 0.5845528 , 0.50177938, 0.84226891, 0.88219084,\n",
       "       2.43251907, 0.76652542, 1.86417238, 0.91989779, 1.99043233,\n",
       "       0.57601373, 1.42644828, 0.71608772])"
      ]
     },
     "execution_count": 76,
     "metadata": {},
     "output_type": "execute_result"
    }
   ],
   "source": [
    "# （2）获取涨幅大于0.5的数据\n",
    "gp[gp>0.5]"
   ]
  },
  {
   "cell_type": "code",
   "execution_count": 78,
   "metadata": {},
   "outputs": [
    {
     "data": {
      "text/plain": [
       "array([[ 0.40315064,  0.08693886, -0.38594771, -0.62306264,  1.        ,\n",
       "         1.        , -0.8169981 , -1.30059599,  1.        ,  1.        ],\n",
       "       [ 0.38116902, -0.92446455,  0.45933517, -0.08660938, -0.78297916,\n",
       "         1.        , -1.18343349, -0.49553567, -1.74086507, -0.4869397 ],\n",
       "       [-1.45717039,  1.        , -0.36676889,  1.        , -0.81834271,\n",
       "         0.01081292,  0.28943635, -2.05143812, -0.07465952,  1.        ],\n",
       "       [ 1.        ,  1.        ,  1.        ,  1.        ,  1.        ,\n",
       "         1.        , -1.21708515,  1.        ,  1.        , -0.8902124 ],\n",
       "       [-0.94441102,  1.        , -0.59716539, -1.29299984,  0.40498235,\n",
       "        -0.72891598, -0.2022746 , -0.18557123, -1.30046204, -1.32351502],\n",
       "       [ 1.        , -1.01319279, -0.05102723,  1.        , -0.14072144,\n",
       "        -1.81353731,  0.14920255,  1.        , -1.26141832,  1.        ],\n",
       "       [-0.49947439, -0.01411581,  1.        ,  0.42203676, -0.04380423,\n",
       "         1.        ,  1.        , -0.09053273, -0.01107469,  1.        ],\n",
       "       [-0.89116407, -0.93336011, -0.39412571,  1.        ,  1.        ,\n",
       "        -0.11034714,  0.36107371, -1.3487962 ,  0.34880386,  1.        ]])"
      ]
     },
     "execution_count": 78,
     "metadata": {},
     "output_type": "execute_result"
    }
   ],
   "source": [
    "# (3)对涨幅大于0.5的数据进行统一的操作\n",
    "gp[gp>0.5] = 1\n",
    "gp"
   ]
  },
  {
   "cell_type": "markdown",
   "metadata": {},
   "source": [
    "#### (1) 通用判断函数"
   ]
  },
  {
   "cell_type": "code",
   "execution_count": 79,
   "metadata": {},
   "outputs": [],
   "source": [
    "# numpy.all() 传进一个布尔值数组，如果有一个False就返回False\n",
    "# numpy.any() 传进一个布尔值，如果有一个True就返回True"
   ]
  },
  {
   "cell_type": "code",
   "execution_count": 84,
   "metadata": {},
   "outputs": [
    {
     "data": {
      "text/plain": [
       "False"
      ]
     },
     "execution_count": 84,
     "metadata": {},
     "output_type": "execute_result"
    }
   ],
   "source": [
    "# 判断pg[:2][:5]数据是否全是上涨的\n",
    "allData = gp[:2][:5]>0\n",
    "numpy.all(allData)"
   ]
  },
  {
   "cell_type": "code",
   "execution_count": 89,
   "metadata": {},
   "outputs": [
    {
     "data": {
      "text/plain": [
       "True"
      ]
     },
     "execution_count": 89,
     "metadata": {},
     "output_type": "execute_result"
    }
   ],
   "source": [
    "# 判断前五支股票是否有上涨的\n",
    "allData = gp[:5,:]>0\n",
    "numpy.any(allData)"
   ]
  },
  {
   "cell_type": "markdown",
   "metadata": {},
   "source": [
    "#### (2)numpy.where（三元运算符）"
   ]
  },
  {
   "cell_type": "code",
   "execution_count": 93,
   "metadata": {},
   "outputs": [
    {
     "data": {
      "text/plain": [
       "array([[1, 1, 0, 0, 1, 1, 0, 0, 1, 1],\n",
       "       [1, 0, 1, 0, 0, 1, 0, 0, 0, 0],\n",
       "       [0, 1, 0, 1, 0, 1, 1, 0, 0, 1],\n",
       "       [1, 1, 1, 1, 1, 1, 0, 1, 1, 0],\n",
       "       [0, 1, 0, 0, 1, 0, 0, 0, 0, 0]])"
      ]
     },
     "execution_count": 93,
     "metadata": {},
     "output_type": "execute_result"
    }
   ],
   "source": [
    "# numpy.where(一组布尔值，True的位置，False的位置)\n",
    "# 判断前5只股票前四天的涨幅，大于0置为1，否则为0\n",
    "numpy.where(gp[:5]>0,1,0)"
   ]
  },
  {
   "cell_type": "markdown",
   "metadata": {},
   "source": [
    "#### (3)复合逻辑：numpy.logical_and、numpy.logical_or"
   ]
  },
  {
   "cell_type": "code",
   "execution_count": 94,
   "metadata": {},
   "outputs": [],
   "source": [
    "gp = numpy.random.normal(loc=0,scale=1,size=(8,10))"
   ]
  },
  {
   "cell_type": "code",
   "execution_count": 97,
   "metadata": {},
   "outputs": [
    {
     "data": {
      "text/plain": [
       "array([[0, 0, 0, 0],\n",
       "       [1, 0, 0, 0],\n",
       "       [0, 0, 0, 0],\n",
       "       [1, 0, 1, 0],\n",
       "       [0, 0, 0, 0]])"
      ]
     },
     "execution_count": 97,
     "metadata": {},
     "output_type": "execute_result"
    }
   ],
   "source": [
    "# 判断前5只股票前四天的涨幅，大于0.5且小于1的置为1，否则为0\n",
    "numpy.where(numpy.logical_and(gp[:5,:4]>0.5,gp[:5,:4]<1),1,0)"
   ]
  },
  {
   "cell_type": "code",
   "execution_count": 99,
   "metadata": {},
   "outputs": [
    {
     "data": {
      "text/plain": [
       "array([[1, 1, 1, 1],\n",
       "       [1, 1, 1, 0],\n",
       "       [1, 0, 0, 1],\n",
       "       [1, 0, 1, 0],\n",
       "       [1, 0, 0, 0]])"
      ]
     },
     "execution_count": 99,
     "metadata": {},
     "output_type": "execute_result"
    }
   ],
   "source": [
    "# 判断前5只股票前四天的涨幅，大于0.5且小于-0.5的置为1，否则为0\n",
    "numpy.where(numpy.logical_or(gp[:5,:4]>0.5,gp[:5,:4]<-0.5),1,0)"
   ]
  },
  {
   "cell_type": "markdown",
   "metadata": {},
   "source": [
    "### 10、统计运算"
   ]
  },
  {
   "cell_type": "markdown",
   "metadata": {},
   "source": [
    "#### （1）统计指标函数"
   ]
  },
  {
   "cell_type": "code",
   "execution_count": 100,
   "metadata": {},
   "outputs": [],
   "source": [
    "# 用法：numpy.函数名(data)或data.方法名()\n",
    "# max：最大值，min：最小值，mean：平均值，median：中位数，var：方差，std：标准差"
   ]
  },
  {
   "cell_type": "code",
   "execution_count": 103,
   "metadata": {},
   "outputs": [
    {
     "data": {
      "text/plain": [
       "array([-0.51037645,  1.50276359,  0.19341912,  0.94390768])"
      ]
     },
     "execution_count": 103,
     "metadata": {},
     "output_type": "execute_result"
    }
   ],
   "source": [
    "# 前四只股票前四天的每天最大涨幅\n",
    "temp = gp[:4,:4]\n",
    "temp.max(axis=0)# 指定坐标轴，axis=0按行，axis=1案列"
   ]
  },
  {
   "cell_type": "code",
   "execution_count": 104,
   "metadata": {},
   "outputs": [
    {
     "data": {
      "text/plain": [
       "array([2, 1, 1, 0], dtype=int64)"
      ]
     },
     "execution_count": 104,
     "metadata": {},
     "output_type": "execute_result"
    }
   ],
   "source": [
    "# 获取最大值和最小值的值的位置\n",
    "temp.argmax(axis=1)"
   ]
  },
  {
   "cell_type": "code",
   "execution_count": 105,
   "metadata": {},
   "outputs": [
    {
     "data": {
      "text/plain": [
       "array([3, 3, 0, 3], dtype=int64)"
      ]
     },
     "execution_count": 105,
     "metadata": {},
     "output_type": "execute_result"
    }
   ],
   "source": [
    "temp.argmin(axis=1)"
   ]
  },
  {
   "cell_type": "markdown",
   "metadata": {},
   "source": [
    "### 11、数组之间的运算"
   ]
  },
  {
   "cell_type": "markdown",
   "metadata": {},
   "source": [
    "#### （1）数字与数之间的运算"
   ]
  },
  {
   "cell_type": "code",
   "execution_count": 107,
   "metadata": {},
   "outputs": [],
   "source": [
    "data = numpy.array([[1,2,3,4],[5,6,7,8]])"
   ]
  },
  {
   "cell_type": "code",
   "execution_count": 109,
   "metadata": {},
   "outputs": [
    {
     "data": {
      "text/plain": [
       "array([[11, 12, 13, 14],\n",
       "       [15, 16, 17, 18]])"
      ]
     },
     "execution_count": 109,
     "metadata": {},
     "output_type": "execute_result"
    }
   ],
   "source": [
    "data+10"
   ]
  },
  {
   "cell_type": "markdown",
   "metadata": {},
   "source": [
    "#### (2)数组与数组之间的运算"
   ]
  },
  {
   "cell_type": "code",
   "execution_count": 110,
   "metadata": {},
   "outputs": [
    {
     "data": {
      "text/plain": [
       "array([[ 2,  4,  6,  8],\n",
       "       [10, 12, 14, 16]])"
      ]
     },
     "execution_count": 110,
     "metadata": {},
     "output_type": "execute_result"
    }
   ],
   "source": [
    "data1 = numpy.array([[1,2,3,4],[5,6,7,8]])(2,4)\n",
    "data2 = numpy.array([[1],[5]])(2,1)\n",
    "# 满足这两个条件才能进行数组之间的运算\n",
    "# 1.维度相等\n",
    "# 2.shape(其中相对应的一个地方为1)"
   ]
  },
  {
   "cell_type": "code",
   "execution_count": 111,
   "metadata": {},
   "outputs": [
    {
     "data": {
      "text/plain": [
       "array([[ 2,  4,  6,  8],\n",
       "       [10, 12, 14, 16]])"
      ]
     },
     "execution_count": 111,
     "metadata": {},
     "output_type": "execute_result"
    }
   ],
   "source": [
    "data1+data2"
   ]
  },
  {
   "cell_type": "markdown",
   "metadata": {},
   "source": [
    "#### （4）矩阵运算"
   ]
  },
  {
   "cell_type": "code",
   "execution_count": 113,
   "metadata": {},
   "outputs": [],
   "source": [
    "score = numpy.array([[80,86],[82,80],[85,78],[90,90],[86,82],[82,90],[78,80],[92,94]])"
   ]
  },
  {
   "cell_type": "code",
   "execution_count": 115,
   "metadata": {},
   "outputs": [
    {
     "data": {
      "text/plain": [
       "matrix([[80, 86],\n",
       "        [82, 80],\n",
       "        [85, 78],\n",
       "        [90, 90],\n",
       "        [86, 82],\n",
       "        [82, 90],\n",
       "        [78, 80],\n",
       "        [92, 94]])"
      ]
     },
     "execution_count": 115,
     "metadata": {},
     "output_type": "execute_result"
    }
   ],
   "source": [
    "# 将数组转换成矩阵\n",
    "data= numpy.mat(score)\n",
    "data"
   ]
  },
  {
   "cell_type": "code",
   "execution_count": 116,
   "metadata": {},
   "outputs": [
    {
     "data": {
      "text/plain": [
       "matrix([[84.2],\n",
       "        [80.6],\n",
       "        [80.1],\n",
       "        [90. ],\n",
       "        [83.2],\n",
       "        [87.6],\n",
       "        [79.4],\n",
       "        [93.4]])"
      ]
     },
     "execution_count": 116,
     "metadata": {},
     "output_type": "execute_result"
    }
   ],
   "source": [
    "# 矩阵相乘形状的变化\n",
    "#（m行，n列）*（n行，l列） = （m行，l列）\n",
    "score = numpy.array([[80,86],[82,80],[85,78],[90,90],[86,82],[82,90],[78,80],[92,94]])#（8，2）\n",
    "qz = numpy.array([[0.3],[0.7]])#（2，1）\n",
    "matscore = numpy.mat(score)\n",
    "matqz = numpy.mat(qz)\n",
    "matscore*matqz"
   ]
  },
  {
   "cell_type": "code",
   "execution_count": 117,
   "metadata": {},
   "outputs": [
    {
     "data": {
      "text/plain": [
       "array([[84.2],\n",
       "       [80.6],\n",
       "       [80.1],\n",
       "       [90. ],\n",
       "       [83.2],\n",
       "       [87.6],\n",
       "       [79.4],\n",
       "       [93.4]])"
      ]
     },
     "execution_count": 117,
     "metadata": {},
     "output_type": "execute_result"
    }
   ],
   "source": [
    "# numpy.matmul(data1,data2)\n",
    "numpy.matmul(score,qz)"
   ]
  },
  {
   "cell_type": "markdown",
   "metadata": {},
   "source": [
    "### 12、合并与分割"
   ]
  },
  {
   "cell_type": "markdown",
   "metadata": {},
   "source": [
    "#### （1）合并"
   ]
  },
  {
   "cell_type": "code",
   "execution_count": 118,
   "metadata": {},
   "outputs": [],
   "source": [
    "# numpy.hstack():水平拼接\n",
    "# numpy.vstack():竖直拼接\n",
    "# numpy.concatenate((data1,data2),axis):指定轴拼接"
   ]
  },
  {
   "cell_type": "code",
   "execution_count": 120,
   "metadata": {},
   "outputs": [
    {
     "data": {
      "text/plain": [
       "array([1, 2, 3, 4, 5, 6])"
      ]
     },
     "execution_count": 120,
     "metadata": {},
     "output_type": "execute_result"
    }
   ],
   "source": [
    "# 水平拼接\n",
    "data1 = numpy.array([1,2,3])\n",
    "data2 = numpy.array([4,5,6])\n",
    "numpy.hstack((data1,data2))"
   ]
  },
  {
   "cell_type": "code",
   "execution_count": 121,
   "metadata": {},
   "outputs": [
    {
     "data": {
      "text/plain": [
       "array([[1, 2, 3],\n",
       "       [4, 5, 6]])"
      ]
     },
     "execution_count": 121,
     "metadata": {},
     "output_type": "execute_result"
    }
   ],
   "source": [
    "# 竖直拼接\n",
    "numpy.vstack((data1,data2))"
   ]
  },
  {
   "cell_type": "code",
   "execution_count": 140,
   "metadata": {},
   "outputs": [],
   "source": [
    "# 指定轴拼接\n",
    "# axis=1：水平拼接\n",
    "# axis = 0：竖直拼接"
   ]
  },
  {
   "cell_type": "code",
   "execution_count": 135,
   "metadata": {},
   "outputs": [
    {
     "data": {
      "text/plain": [
       "array([[1, 2, 4],\n",
       "       [3, 4, 5]])"
      ]
     },
     "execution_count": 135,
     "metadata": {},
     "output_type": "execute_result"
    }
   ],
   "source": [
    "data1 = numpy.array([[1,2],[3,4]])\n",
    "data2 = numpy.array([[4],[5]])\n",
    "numpy.concatenate((data1,data2),axis=1)"
   ]
  },
  {
   "cell_type": "code",
   "execution_count": 139,
   "metadata": {},
   "outputs": [
    {
     "data": {
      "text/plain": [
       "array([[1, 2],\n",
       "       [3, 4],\n",
       "       [4, 5]])"
      ]
     },
     "execution_count": 139,
     "metadata": {},
     "output_type": "execute_result"
    }
   ],
   "source": [
    "data1 = numpy.array([[1,2],[3,4]])\n",
    "data2 = numpy.array([[4,5]])\n",
    "numpy.concatenate((data1,data2),axis=0)"
   ]
  },
  {
   "cell_type": "markdown",
   "metadata": {},
   "source": [
    "#### (2)分割"
   ]
  },
  {
   "cell_type": "code",
   "execution_count": 143,
   "metadata": {},
   "outputs": [
    {
     "data": {
      "text/plain": [
       "[array([0, 1, 2]), array([3, 4, 5]), array([6, 7, 8])]"
      ]
     },
     "execution_count": 143,
     "metadata": {},
     "output_type": "execute_result"
    }
   ],
   "source": [
    "# （1）按数量进行分割\n",
    "data = numpy.arange(0,9)\n",
    "numpy.split(data,3)"
   ]
  },
  {
   "cell_type": "code",
   "execution_count": 144,
   "metadata": {},
   "outputs": [
    {
     "data": {
      "text/plain": [
       "[array([0, 1]), array([2, 3]), array([4]), array([5, 6, 7, 8])]"
      ]
     },
     "execution_count": 144,
     "metadata": {},
     "output_type": "execute_result"
    }
   ],
   "source": [
    "# (2)按索引进行分割\n",
    "arrIndex = numpy.arange(0,9)\n",
    "numpy.split(arrIndex,[2,4,5])"
   ]
  },
  {
   "cell_type": "code",
   "execution_count": 149,
   "metadata": {},
   "outputs": [],
   "source": [
    "data = numpy.array([[1,2,3,4],[5,6,7,8]])"
   ]
  },
  {
   "cell_type": "code",
   "execution_count": 157,
   "metadata": {},
   "outputs": [
    {
     "data": {
      "text/plain": [
       "array([[1, 2, 3],\n",
       "       [5, 6, 7]])"
      ]
     },
     "execution_count": 157,
     "metadata": {},
     "output_type": "execute_result"
    }
   ],
   "source": [
    "data[:2,:-1]"
   ]
  },
  {
   "cell_type": "code",
   "execution_count": null,
   "metadata": {},
   "outputs": [],
   "source": []
  }
 ],
 "metadata": {
  "kernelspec": {
   "display_name": "Python 3",
   "language": "python",
   "name": "python3"
  },
  "language_info": {
   "codemirror_mode": {
    "name": "ipython",
    "version": 3
   },
   "file_extension": ".py",
   "mimetype": "text/x-python",
   "name": "python",
   "nbconvert_exporter": "python",
   "pygments_lexer": "ipython3",
   "version": "3.7.3"
  }
 },
 "nbformat": 4,
 "nbformat_minor": 2
}
